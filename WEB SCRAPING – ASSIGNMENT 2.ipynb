{
 "cells": [
  {
   "cell_type": "code",
   "execution_count": 4,
   "id": "e405454e",
   "metadata": {},
   "outputs": [
    {
     "name": "stdout",
     "output_type": "stream",
     "text": [
      "Requirement already satisfied: selenium in c:\\users\\kikis\\anaconda3\\lib\\site-packages (4.22.0)\n",
      "Requirement already satisfied: trio-websocket~=0.9 in c:\\users\\kikis\\anaconda3\\lib\\site-packages (from selenium) (0.11.1)\n",
      "Requirement already satisfied: certifi>=2021.10.8 in c:\\users\\kikis\\anaconda3\\lib\\site-packages (from selenium) (2023.5.7)\n",
      "Requirement already satisfied: typing_extensions>=4.9.0 in c:\\users\\kikis\\anaconda3\\lib\\site-packages (from selenium) (4.12.2)\n",
      "Requirement already satisfied: trio~=0.17 in c:\\users\\kikis\\anaconda3\\lib\\site-packages (from selenium) (0.26.0)\n",
      "Requirement already satisfied: urllib3[socks]<3,>=1.26 in c:\\users\\kikis\\anaconda3\\lib\\site-packages (from selenium) (1.26.14)\n",
      "Requirement already satisfied: websocket-client>=1.8.0 in c:\\users\\kikis\\anaconda3\\lib\\site-packages (from selenium) (1.8.0)\n",
      "Requirement already satisfied: outcome in c:\\users\\kikis\\anaconda3\\lib\\site-packages (from trio~=0.17->selenium) (1.3.0.post0)\n",
      "Requirement already satisfied: attrs>=23.2.0 in c:\\users\\kikis\\anaconda3\\lib\\site-packages (from trio~=0.17->selenium) (23.2.0)\n",
      "Requirement already satisfied: sortedcontainers in c:\\users\\kikis\\anaconda3\\lib\\site-packages (from trio~=0.17->selenium) (2.4.0)\n",
      "Requirement already satisfied: exceptiongroup in c:\\users\\kikis\\anaconda3\\lib\\site-packages (from trio~=0.17->selenium) (1.2.1)\n",
      "Requirement already satisfied: cffi>=1.14 in c:\\users\\kikis\\anaconda3\\lib\\site-packages (from trio~=0.17->selenium) (1.15.1)\n",
      "Requirement already satisfied: idna in c:\\users\\kikis\\anaconda3\\lib\\site-packages (from trio~=0.17->selenium) (3.4)\n",
      "Requirement already satisfied: sniffio>=1.3.0 in c:\\users\\kikis\\anaconda3\\lib\\site-packages (from trio~=0.17->selenium) (1.3.1)\n",
      "Requirement already satisfied: wsproto>=0.14 in c:\\users\\kikis\\anaconda3\\lib\\site-packages (from trio-websocket~=0.9->selenium) (1.2.0)\n",
      "Requirement already satisfied: PySocks!=1.5.7,<2.0,>=1.5.6 in c:\\users\\kikis\\anaconda3\\lib\\site-packages (from urllib3[socks]<3,>=1.26->selenium) (1.7.1)\n",
      "Requirement already satisfied: pycparser in c:\\users\\kikis\\anaconda3\\lib\\site-packages (from cffi>=1.14->trio~=0.17->selenium) (2.21)\n",
      "Requirement already satisfied: h11<1,>=0.9.0 in c:\\users\\kikis\\anaconda3\\lib\\site-packages (from wsproto>=0.14->trio-websocket~=0.9->selenium) (0.14.0)\n"
     ]
    }
   ],
   "source": [
    "!pip install selenium"
   ]
  },
  {
   "cell_type": "code",
   "execution_count": 114,
   "id": "bc93c009",
   "metadata": {},
   "outputs": [],
   "source": [
    "import selenium\n",
    "import pandas as pd\n",
    "from selenium import webdriver\n",
    "import warnings\n",
    "warnings.filterwarnings('ignore')\n",
    "from selenium.webdriver.common.by import By\n",
    "import time"
   ]
  },
  {
   "cell_type": "code",
   "execution_count": 23,
   "id": "8d3aa34b",
   "metadata": {},
   "outputs": [],
   "source": []
  },
  {
   "cell_type": "code",
   "execution_count": null,
   "id": "709c933e",
   "metadata": {},
   "outputs": [],
   "source": []
  },
  {
   "cell_type": "code",
   "execution_count": 6,
   "id": "48a76392",
   "metadata": {},
   "outputs": [],
   "source": [
    "driver = webdriver.Chrome()"
   ]
  },
  {
   "cell_type": "code",
   "execution_count": 580,
   "id": "2a2af230",
   "metadata": {},
   "outputs": [],
   "source": [
    "#opening the naukri page on automated chrome browser\n",
    "\n",
    "driver.get(\"https://www.naukri.com/\")"
   ]
  },
  {
   "cell_type": "code",
   "execution_count": 246,
   "id": "2f3caa1d",
   "metadata": {},
   "outputs": [],
   "source": [
    "#entering designation and location\n",
    "\n",
    "designation=driver.find_element(By.CLASS_NAME,\"suggestor-input \")\n",
    "designation.send_keys('Data scientist')"
   ]
  },
  {
   "cell_type": "code",
   "execution_count": null,
   "id": "5fab2535",
   "metadata": {},
   "outputs": [],
   "source": []
  },
  {
   "cell_type": "code",
   "execution_count": 252,
   "id": "8fe910ed",
   "metadata": {},
   "outputs": [],
   "source": [
    "#Q1: In this question you have to scrape data using the filters available on the webpage You have to use the location and salaryfilter.\n",
    "#You have to scrape the job-title, job-location, company name, experience required."
   ]
  },
  {
   "cell_type": "code",
   "execution_count": 243,
   "id": "330eb88d",
   "metadata": {},
   "outputs": [],
   "source": [
    "job_title=[]\n",
    "job_location=[]\n",
    "company_name=[]\n",
    "experience_required=[]"
   ]
  },
  {
   "cell_type": "code",
   "execution_count": 247,
   "id": "0ae09f1c",
   "metadata": {},
   "outputs": [],
   "source": [
    "#scrapping job tilte as instructed\n",
    "title_tags=driver.find_elements(By.XPATH,'//div[@class=\"cust-job-tuple layout-wrapper lay-2 sjw__tuple \"]/div/a')\n",
    "for i in title_tags:\n",
    "    title=i.text\n",
    "    job_title.append(title)\n",
    "    \n",
    "    #scrapping job location as instructed\n",
    "location_tags=driver.find_elements(By.XPATH,'//span[@class=\"locWdth\"]')\n",
    "for i in location_tags:\n",
    "    location=i.text\n",
    "    job_location.append(location)\n",
    "    \n",
    "    #scrapping company name as instructed\n",
    "company_tags=driver.find_elements(By.XPATH,'//div[@class=\" row2\"]/span/a[1]')\n",
    "for i in company_tags:\n",
    "    company=i.text\n",
    "    company_name.append(company)\n",
    "    \n",
    "     #scrapping job Experience as instructed\n",
    "experience_tags=driver.find_elements(By.XPATH,'//span[@class=\"expwdth\"]')\n",
    "for i in experience_tags:\n",
    "    exp=i.text\n",
    "    experience_required.append(exp)"
   ]
  },
  {
   "cell_type": "code",
   "execution_count": 248,
   "id": "5af4f369",
   "metadata": {},
   "outputs": [
    {
     "name": "stdout",
     "output_type": "stream",
     "text": [
      "20 20 20 20\n"
     ]
    }
   ],
   "source": [
    "print(len(job_title),len(job_location),len(company_name),len(experience_required))"
   ]
  },
  {
   "cell_type": "code",
   "execution_count": 269,
   "id": "2e2145ab",
   "metadata": {},
   "outputs": [
    {
     "data": {
      "text/html": [
       "<div>\n",
       "<style scoped>\n",
       "    .dataframe tbody tr th:only-of-type {\n",
       "        vertical-align: middle;\n",
       "    }\n",
       "\n",
       "    .dataframe tbody tr th {\n",
       "        vertical-align: top;\n",
       "    }\n",
       "\n",
       "    .dataframe thead th {\n",
       "        text-align: right;\n",
       "    }\n",
       "</style>\n",
       "<table border=\"1\" class=\"dataframe\">\n",
       "  <thead>\n",
       "    <tr style=\"text-align: right;\">\n",
       "      <th></th>\n",
       "      <th>Title</th>\n",
       "      <th>Location</th>\n",
       "      <th>Company_name</th>\n",
       "      <th>Experience</th>\n",
       "    </tr>\n",
       "  </thead>\n",
       "  <tbody>\n",
       "    <tr>\n",
       "      <th>0</th>\n",
       "      <td>Hr Data Analyst</td>\n",
       "      <td>Bangalore</td>\n",
       "      <td>leverage business solutions private...</td>\n",
       "      <td>4 to 8 Yrs</td>\n",
       "    </tr>\n",
       "    <tr>\n",
       "      <th>1</th>\n",
       "      <td>Data Analyst , Senior Data Analyst , Data Anal...</td>\n",
       "      <td>Bangalore\\n+8</td>\n",
       "      <td>appsoft solutions</td>\n",
       "      <td>0 to 4 Yrs</td>\n",
       "    </tr>\n",
       "    <tr>\n",
       "      <th>2</th>\n",
       "      <td>Data Analyst</td>\n",
       "      <td>Bangalore</td>\n",
       "      <td>phoenix global re settlement servic...</td>\n",
       "      <td>3 to 8 Yrs</td>\n",
       "    </tr>\n",
       "    <tr>\n",
       "      <th>3</th>\n",
       "      <td>Data Analyst</td>\n",
       "      <td>Bangalore\\n+4</td>\n",
       "      <td>aryan technology</td>\n",
       "      <td>0 to 4 Yrs</td>\n",
       "    </tr>\n",
       "    <tr>\n",
       "      <th>4</th>\n",
       "      <td>Data Analyst</td>\n",
       "      <td>Bangalore</td>\n",
       "      <td>subhadra jobs consultancy hiring fo...</td>\n",
       "      <td>2 to 7 Yrs</td>\n",
       "    </tr>\n",
       "    <tr>\n",
       "      <th>5</th>\n",
       "      <td>Data Analyst</td>\n",
       "      <td>Bangalore\\n+18</td>\n",
       "      <td>neo impex stainless private limited</td>\n",
       "      <td>9 to 14 Yrs</td>\n",
       "    </tr>\n",
       "    <tr>\n",
       "      <th>6</th>\n",
       "      <td>Data Analyst</td>\n",
       "      <td>Bangalore</td>\n",
       "      <td>subhadra jobs consultancy hiring fo...</td>\n",
       "      <td>2 to 7 Yrs</td>\n",
       "    </tr>\n",
       "    <tr>\n",
       "      <th>7</th>\n",
       "      <td>Data Analyst</td>\n",
       "      <td>Bangalore</td>\n",
       "      <td>ltimindtree limited</td>\n",
       "      <td>5 to 10 Yrs</td>\n",
       "    </tr>\n",
       "    <tr>\n",
       "      <th>8</th>\n",
       "      <td>Clinical Data Analyst</td>\n",
       "      <td>Bangalore\\n+6</td>\n",
       "      <td>techno endura</td>\n",
       "      <td>0 to 1 Yr</td>\n",
       "    </tr>\n",
       "    <tr>\n",
       "      <th>9</th>\n",
       "      <td>Data Analyst</td>\n",
       "      <td>Bangalore</td>\n",
       "      <td>vision india services private limit...</td>\n",
       "      <td>2 to 4 Yrs</td>\n",
       "    </tr>\n",
       "  </tbody>\n",
       "</table>\n",
       "</div>"
      ],
      "text/plain": [
       "                                               Title        Location  \\\n",
       "0                                    Hr Data Analyst       Bangalore   \n",
       "1  Data Analyst , Senior Data Analyst , Data Anal...   Bangalore\\n+8   \n",
       "2                                       Data Analyst       Bangalore   \n",
       "3                                       Data Analyst   Bangalore\\n+4   \n",
       "4                                       Data Analyst       Bangalore   \n",
       "5                                       Data Analyst  Bangalore\\n+18   \n",
       "6                                       Data Analyst       Bangalore   \n",
       "7                                       Data Analyst       Bangalore   \n",
       "8                              Clinical Data Analyst   Bangalore\\n+6   \n",
       "9                                       Data Analyst       Bangalore   \n",
       "\n",
       "                             Company_name   Experience  \n",
       "0  leverage business solutions private...   4 to 8 Yrs  \n",
       "1                       appsoft solutions   0 to 4 Yrs  \n",
       "2  phoenix global re settlement servic...   3 to 8 Yrs  \n",
       "3                        aryan technology   0 to 4 Yrs  \n",
       "4  subhadra jobs consultancy hiring fo...   2 to 7 Yrs  \n",
       "5     neo impex stainless private limited  9 to 14 Yrs  \n",
       "6  subhadra jobs consultancy hiring fo...   2 to 7 Yrs  \n",
       "7                     ltimindtree limited  5 to 10 Yrs  \n",
       "8                           techno endura    0 to 1 Yr  \n",
       "9  vision india services private limit...   2 to 4 Yrs  "
      ]
     },
     "execution_count": 269,
     "metadata": {},
     "output_type": "execute_result"
    }
   ],
   "source": [
    "import pandas as pd\n",
    "df=pd.DataFrame({'Title':job_title,'Location':job_location,'Company_name':company_name,'Experience':experience_required})\n",
    "df\n",
    "df.head(10)"
   ]
  },
  {
   "cell_type": "code",
   "execution_count": null,
   "id": "5c339672",
   "metadata": {},
   "outputs": [],
   "source": []
  },
  {
   "cell_type": "code",
   "execution_count": 253,
   "id": "7b2f0036",
   "metadata": {},
   "outputs": [],
   "source": [
    "# Q2: Write a python program to scrape data for “Data Scientist” Job position in “Bangalore” location. You have to scrape the \n",
    "# job-title, job-location, company_name, experience_required. You have to scrape first 10 jobs data."
   ]
  },
  {
   "cell_type": "code",
   "execution_count": 263,
   "id": "0e1855f5",
   "metadata": {},
   "outputs": [],
   "source": [
    "#opening the shine page on automated chrome browser\n",
    "\n",
    "driver.get(\"https://www.shine.com/\")"
   ]
  },
  {
   "cell_type": "code",
   "execution_count": 255,
   "id": "8f57c89a",
   "metadata": {},
   "outputs": [],
   "source": [
    "job_title=[]\n",
    "job_location=[]\n",
    "company_name=[]\n",
    "experience_required=[]"
   ]
  },
  {
   "cell_type": "code",
   "execution_count": 264,
   "id": "95886513",
   "metadata": {},
   "outputs": [],
   "source": [
    "#scrapping job tilte as instructed\n",
    "title_tags=driver.find_elements(By.XPATH,'//strong[@class=\"jobCard_pReplaceH2__xWmHg\"]')\n",
    "for i in title_tags:\n",
    "    title=i.text\n",
    "    job_title.append(title)\n",
    "    \n",
    "    #scrapping job location as instructed\n",
    "location_tags=driver.find_elements(By.XPATH,'//div[@class=\"jobCard_jobCard_lists_item__YxRkV jobCard_locationIcon__zrWt2\"]')\n",
    "for i in location_tags:\n",
    "    location=i.text\n",
    "    job_location.append(location)\n",
    "    \n",
    "    #scrapping company name as instructed\n",
    "company_tags=driver.find_elements(By.XPATH,'//div[@class=\"jobCard_jobCard_cName__mYnow\"]/span')\n",
    "for i in company_tags:\n",
    "    company=i.text\n",
    "    company_name.append(company)\n",
    "    \n",
    "     #scrapping job Experience as instructed\n",
    "experience_tags=driver.find_elements(By.XPATH,'//div[@class=\" jobCard_jobCard_lists_item__YxRkV jobCard_jobIcon__3FB1t\"]')\n",
    "for i in experience_tags:\n",
    "    exp=i.text\n",
    "    experience_required.append(exp)"
   ]
  },
  {
   "cell_type": "code",
   "execution_count": 266,
   "id": "a98504e6",
   "metadata": {},
   "outputs": [
    {
     "name": "stdout",
     "output_type": "stream",
     "text": [
      "20 20 20 20\n"
     ]
    }
   ],
   "source": [
    "print(len(job_title),len(job_location),len(company_name),len(experience_required))"
   ]
  },
  {
   "cell_type": "code",
   "execution_count": 268,
   "id": "88c0dfe9",
   "metadata": {},
   "outputs": [
    {
     "data": {
      "text/html": [
       "<div>\n",
       "<style scoped>\n",
       "    .dataframe tbody tr th:only-of-type {\n",
       "        vertical-align: middle;\n",
       "    }\n",
       "\n",
       "    .dataframe tbody tr th {\n",
       "        vertical-align: top;\n",
       "    }\n",
       "\n",
       "    .dataframe thead th {\n",
       "        text-align: right;\n",
       "    }\n",
       "</style>\n",
       "<table border=\"1\" class=\"dataframe\">\n",
       "  <thead>\n",
       "    <tr style=\"text-align: right;\">\n",
       "      <th></th>\n",
       "      <th>Title</th>\n",
       "      <th>Location</th>\n",
       "      <th>Company_name</th>\n",
       "      <th>Experience</th>\n",
       "    </tr>\n",
       "  </thead>\n",
       "  <tbody>\n",
       "    <tr>\n",
       "      <th>0</th>\n",
       "      <td>Hr Data Analyst</td>\n",
       "      <td>Bangalore</td>\n",
       "      <td>leverage business solutions private...</td>\n",
       "      <td>4 to 8 Yrs</td>\n",
       "    </tr>\n",
       "    <tr>\n",
       "      <th>1</th>\n",
       "      <td>Data Analyst , Senior Data Analyst , Data Anal...</td>\n",
       "      <td>Bangalore\\n+8</td>\n",
       "      <td>appsoft solutions</td>\n",
       "      <td>0 to 4 Yrs</td>\n",
       "    </tr>\n",
       "    <tr>\n",
       "      <th>2</th>\n",
       "      <td>Data Analyst</td>\n",
       "      <td>Bangalore</td>\n",
       "      <td>phoenix global re settlement servic...</td>\n",
       "      <td>3 to 8 Yrs</td>\n",
       "    </tr>\n",
       "    <tr>\n",
       "      <th>3</th>\n",
       "      <td>Data Analyst</td>\n",
       "      <td>Bangalore\\n+4</td>\n",
       "      <td>aryan technology</td>\n",
       "      <td>0 to 4 Yrs</td>\n",
       "    </tr>\n",
       "    <tr>\n",
       "      <th>4</th>\n",
       "      <td>Data Analyst</td>\n",
       "      <td>Bangalore</td>\n",
       "      <td>subhadra jobs consultancy hiring fo...</td>\n",
       "      <td>2 to 7 Yrs</td>\n",
       "    </tr>\n",
       "    <tr>\n",
       "      <th>5</th>\n",
       "      <td>Data Analyst</td>\n",
       "      <td>Bangalore\\n+18</td>\n",
       "      <td>neo impex stainless private limited</td>\n",
       "      <td>9 to 14 Yrs</td>\n",
       "    </tr>\n",
       "    <tr>\n",
       "      <th>6</th>\n",
       "      <td>Data Analyst</td>\n",
       "      <td>Bangalore</td>\n",
       "      <td>subhadra jobs consultancy hiring fo...</td>\n",
       "      <td>2 to 7 Yrs</td>\n",
       "    </tr>\n",
       "    <tr>\n",
       "      <th>7</th>\n",
       "      <td>Data Analyst</td>\n",
       "      <td>Bangalore</td>\n",
       "      <td>ltimindtree limited</td>\n",
       "      <td>5 to 10 Yrs</td>\n",
       "    </tr>\n",
       "    <tr>\n",
       "      <th>8</th>\n",
       "      <td>Clinical Data Analyst</td>\n",
       "      <td>Bangalore\\n+6</td>\n",
       "      <td>techno endura</td>\n",
       "      <td>0 to 1 Yr</td>\n",
       "    </tr>\n",
       "    <tr>\n",
       "      <th>9</th>\n",
       "      <td>Data Analyst</td>\n",
       "      <td>Bangalore</td>\n",
       "      <td>vision india services private limit...</td>\n",
       "      <td>2 to 4 Yrs</td>\n",
       "    </tr>\n",
       "  </tbody>\n",
       "</table>\n",
       "</div>"
      ],
      "text/plain": [
       "                                               Title        Location  \\\n",
       "0                                    Hr Data Analyst       Bangalore   \n",
       "1  Data Analyst , Senior Data Analyst , Data Anal...   Bangalore\\n+8   \n",
       "2                                       Data Analyst       Bangalore   \n",
       "3                                       Data Analyst   Bangalore\\n+4   \n",
       "4                                       Data Analyst       Bangalore   \n",
       "5                                       Data Analyst  Bangalore\\n+18   \n",
       "6                                       Data Analyst       Bangalore   \n",
       "7                                       Data Analyst       Bangalore   \n",
       "8                              Clinical Data Analyst   Bangalore\\n+6   \n",
       "9                                       Data Analyst       Bangalore   \n",
       "\n",
       "                             Company_name   Experience  \n",
       "0  leverage business solutions private...   4 to 8 Yrs  \n",
       "1                       appsoft solutions   0 to 4 Yrs  \n",
       "2  phoenix global re settlement servic...   3 to 8 Yrs  \n",
       "3                        aryan technology   0 to 4 Yrs  \n",
       "4  subhadra jobs consultancy hiring fo...   2 to 7 Yrs  \n",
       "5     neo impex stainless private limited  9 to 14 Yrs  \n",
       "6  subhadra jobs consultancy hiring fo...   2 to 7 Yrs  \n",
       "7                     ltimindtree limited  5 to 10 Yrs  \n",
       "8                           techno endura    0 to 1 Yr  \n",
       "9  vision india services private limit...   2 to 4 Yrs  "
      ]
     },
     "execution_count": 268,
     "metadata": {},
     "output_type": "execute_result"
    }
   ],
   "source": [
    "import pandas as pd\n",
    "df=pd.DataFrame({'Title':job_title,'Location':job_location,'Company_name':company_name,'Experience':experience_required})\n",
    "df\n",
    "df.head(10)"
   ]
  },
  {
   "cell_type": "code",
   "execution_count": null,
   "id": "4cf841b8",
   "metadata": {},
   "outputs": [],
   "source": []
  },
  {
   "cell_type": "code",
   "execution_count": 270,
   "id": "d5e5cf65",
   "metadata": {},
   "outputs": [],
   "source": [
    "#Q3: Scrape 100 reviews data from flipkart.com for iphone11 phone."
   ]
  },
  {
   "cell_type": "code",
   "execution_count": 538,
   "id": "3fd1526c",
   "metadata": {},
   "outputs": [],
   "source": [
    "driver = webdriver.Chrome()"
   ]
  },
  {
   "cell_type": "code",
   "execution_count": 453,
   "id": "b72094ff",
   "metadata": {},
   "outputs": [],
   "source": [
    "#opening the flipkart page on automated chrome browser\n",
    "\n",
    "driver.get(\"https://www.flipkart.com/apple-iphone-11-black-64-gb/product-reviews/itm4e5041ba101fd?pid=MOBFWQ6BXGJCEYNY&lid=LSTMOBFWQ6BXGJCEYNYZXSHRJ&marketplace=FLIPKART\")"
   ]
  },
  {
   "cell_type": "code",
   "execution_count": 399,
   "id": "064844d3",
   "metadata": {},
   "outputs": [],
   "source": [
    "#Scrape the following attributes\n",
    "#1. Rating\n",
    "#2. Review summary\n",
    "#3. Full review\n",
    "#4. You have to scrape this data for first 100 reviews."
   ]
  },
  {
   "cell_type": "code",
   "execution_count": null,
   "id": "3404c1ee",
   "metadata": {},
   "outputs": [],
   "source": [
    "rating=[]\n",
    "review_summary=[]\n",
    "full_review=[]"
   ]
  },
  {
   "cell_type": "code",
   "execution_count": null,
   "id": "8d820c07",
   "metadata": {},
   "outputs": [],
   "source": []
  },
  {
   "cell_type": "code",
   "execution_count": 405,
   "id": "081cd07f",
   "metadata": {},
   "outputs": [],
   "source": [
    "#scrapping rating as instructed\n",
    "rating_tags=driver.find_elements(By.XPATH,'//div[@class=\"XQDdHH Ga3i8K\"]')\n",
    "for i in rating_tags:\n",
    "    rating=i.text\n",
    "    rating.append(rating)\n",
    "   \n",
    "    \n",
    "    #scrapping review summary as instructed\n",
    "summary_tags=driver.find_elements(By.XPATH,'//p[@class=\"z9E0IG\"]')\n",
    "for i in summary_tags:\n",
    "    summary=i.text\n",
    "    review_summary.append(summary)\n",
    "    \n",
    "    #scrapping full review as instructed\n",
    "review_tags=driver.find_elements(By.XPATH,'//div[@class=\"ZmyHeo\"]/div/div')\n",
    "for i in review_tags:\n",
    "    review=i.text\n",
    "    full_review.append(review)"
   ]
  },
  {
   "cell_type": "code",
   "execution_count": 441,
   "id": "f22e741e",
   "metadata": {},
   "outputs": [
    {
     "data": {
      "text/plain": [
       "[<selenium.webdriver.remote.webelement.WebElement (session=\"3a5d5775ef48ddb301ca734aaeb0f68c\", element=\"f.851B6EC5AF7B6215B76D2A89AF187F7D.d.92DEAB18B54E05FB42D47AF1AF71166A.e.104\")>]"
      ]
     },
     "execution_count": 441,
     "metadata": {},
     "output_type": "execute_result"
    }
   ],
   "source": [
    "#to fetch the url\n",
    "url=driver.find_elements(By.XPATH,'//a[@class=\"wjcEIp AbG6iz\"]')\n",
    "url[0:4]"
   ]
  },
  {
   "cell_type": "code",
   "execution_count": 442,
   "id": "e07ae7dd",
   "metadata": {},
   "outputs": [
    {
     "name": "stdout",
     "output_type": "stream",
     "text": [
      "https://www.flipkart.com/apple-iphone-11-black-64-gb/p/itm4e5041ba101fd?pid=MOBFWQ6BXGJCEYNY&ssid=aac3iljvio0000001720984195670\n"
     ]
    }
   ],
   "source": [
    "for i in url[0:4]: #Lets provide range to print only top 4 data\n",
    "    print(i.get_attribute('href'))"
   ]
  },
  {
   "cell_type": "code",
   "execution_count": 444,
   "id": "a371ab85",
   "metadata": {},
   "outputs": [],
   "source": [
    "ratings=[]"
   ]
  },
  {
   "cell_type": "code",
   "execution_count": 447,
   "id": "8bfa53b2",
   "metadata": {},
   "outputs": [],
   "source": [
    "start=0\n",
    "end=10\n",
    "for page in range(start,end):\n",
    "    ratings=driver.find_elements(By.XPATH,'//div[@class=\"XQDdHH Ga3i8K\"]')\n",
    "    for i in ratings:\n",
    "        ratings.append(i.text)\n",
    "    next_button=driver.find_element(By.XPATH,'/html/body/div/div/div[3]/div/div/div[2]/div[13]/div/div/nav/a[11]/span')\n",
    "    next_button.click()\n",
    "    time.sleep(3)"
   ]
  },
  {
   "cell_type": "code",
   "execution_count": 468,
   "id": "ce30c1a6",
   "metadata": {},
   "outputs": [
    {
     "data": {
      "text/plain": [
       "10"
      ]
     },
     "execution_count": 468,
     "metadata": {},
     "output_type": "execute_result"
    }
   ],
   "source": [
    "len(ratings)"
   ]
  },
  {
   "cell_type": "code",
   "execution_count": 469,
   "id": "4e283302",
   "metadata": {},
   "outputs": [
    {
     "data": {
      "text/plain": [
       "[<selenium.webdriver.remote.webelement.WebElement (session=\"3a5d5775ef48ddb301ca734aaeb0f68c\", element=\"f.851B6EC5AF7B6215B76D2A89AF187F7D.d.92DEAB18B54E05FB42D47AF1AF71166A.e.1797\")>,\n",
       " <selenium.webdriver.remote.webelement.WebElement (session=\"3a5d5775ef48ddb301ca734aaeb0f68c\", element=\"f.851B6EC5AF7B6215B76D2A89AF187F7D.d.92DEAB18B54E05FB42D47AF1AF71166A.e.1746\")>,\n",
       " <selenium.webdriver.remote.webelement.WebElement (session=\"3a5d5775ef48ddb301ca734aaeb0f68c\", element=\"f.851B6EC5AF7B6215B76D2A89AF187F7D.d.92DEAB18B54E05FB42D47AF1AF71166A.e.1689\")>,\n",
       " <selenium.webdriver.remote.webelement.WebElement (session=\"3a5d5775ef48ddb301ca734aaeb0f68c\", element=\"f.851B6EC5AF7B6215B76D2A89AF187F7D.d.92DEAB18B54E05FB42D47AF1AF71166A.e.1636\")>,\n",
       " <selenium.webdriver.remote.webelement.WebElement (session=\"3a5d5775ef48ddb301ca734aaeb0f68c\", element=\"f.851B6EC5AF7B6215B76D2A89AF187F7D.d.92DEAB18B54E05FB42D47AF1AF71166A.e.1586\")>,\n",
       " <selenium.webdriver.remote.webelement.WebElement (session=\"3a5d5775ef48ddb301ca734aaeb0f68c\", element=\"f.851B6EC5AF7B6215B76D2A89AF187F7D.d.92DEAB18B54E05FB42D47AF1AF71166A.e.1535\")>,\n",
       " <selenium.webdriver.remote.webelement.WebElement (session=\"3a5d5775ef48ddb301ca734aaeb0f68c\", element=\"f.851B6EC5AF7B6215B76D2A89AF187F7D.d.92DEAB18B54E05FB42D47AF1AF71166A.e.1483\")>,\n",
       " <selenium.webdriver.remote.webelement.WebElement (session=\"3a5d5775ef48ddb301ca734aaeb0f68c\", element=\"f.851B6EC5AF7B6215B76D2A89AF187F7D.d.92DEAB18B54E05FB42D47AF1AF71166A.e.1431\")>,\n",
       " <selenium.webdriver.remote.webelement.WebElement (session=\"3a5d5775ef48ddb301ca734aaeb0f68c\", element=\"f.851B6EC5AF7B6215B76D2A89AF187F7D.d.92DEAB18B54E05FB42D47AF1AF71166A.e.1381\")>,\n",
       " <selenium.webdriver.remote.webelement.WebElement (session=\"3a5d5775ef48ddb301ca734aaeb0f68c\", element=\"f.851B6EC5AF7B6215B76D2A89AF187F7D.d.92DEAB18B54E05FB42D47AF1AF71166A.e.1329\")>]"
      ]
     },
     "execution_count": 469,
     "metadata": {},
     "output_type": "execute_result"
    }
   ],
   "source": [
    "ratings"
   ]
  },
  {
   "cell_type": "code",
   "execution_count": 454,
   "id": "47da1fde",
   "metadata": {},
   "outputs": [],
   "source": [
    "review_summaries=[]"
   ]
  },
  {
   "cell_type": "code",
   "execution_count": 455,
   "id": "364c9a83",
   "metadata": {},
   "outputs": [],
   "source": [
    "start=0\n",
    "end=10\n",
    "for page in range(start,end):\n",
    "    summaries=driver.find_elements(By.XPATH,'//div[@class=\"XQDdHH Ga3i8K\"]')\n",
    "    for i in summaries:\n",
    "        review_summaries.append(i.text)\n",
    "    next_button=driver.find_element(By.XPATH,'//p[@class=\"z9E0IG\"]')\n",
    "    next_button.click()\n",
    "    time.sleep(3)"
   ]
  },
  {
   "cell_type": "code",
   "execution_count": 456,
   "id": "371941f9",
   "metadata": {},
   "outputs": [
    {
     "data": {
      "text/plain": [
       "100"
      ]
     },
     "execution_count": 456,
     "metadata": {},
     "output_type": "execute_result"
    }
   ],
   "source": [
    "len(review_summaries)"
   ]
  },
  {
   "cell_type": "code",
   "execution_count": 458,
   "id": "81a6ce59",
   "metadata": {},
   "outputs": [
    {
     "data": {
      "text/plain": [
       "['5',\n",
       " '5',\n",
       " '5',\n",
       " '5',\n",
       " '5',\n",
       " '5',\n",
       " '5',\n",
       " '5',\n",
       " '5',\n",
       " '5',\n",
       " '5',\n",
       " '5',\n",
       " '5',\n",
       " '5',\n",
       " '5',\n",
       " '5',\n",
       " '5',\n",
       " '5',\n",
       " '5',\n",
       " '5',\n",
       " '5',\n",
       " '5',\n",
       " '5',\n",
       " '5',\n",
       " '5',\n",
       " '5',\n",
       " '5',\n",
       " '5',\n",
       " '5',\n",
       " '5',\n",
       " '5',\n",
       " '5',\n",
       " '5',\n",
       " '5',\n",
       " '5',\n",
       " '5',\n",
       " '5',\n",
       " '5',\n",
       " '5',\n",
       " '5',\n",
       " '5',\n",
       " '5',\n",
       " '5',\n",
       " '5',\n",
       " '5',\n",
       " '5',\n",
       " '5',\n",
       " '5',\n",
       " '5',\n",
       " '5',\n",
       " '5',\n",
       " '5',\n",
       " '5',\n",
       " '5',\n",
       " '5',\n",
       " '5',\n",
       " '5',\n",
       " '5',\n",
       " '5',\n",
       " '5',\n",
       " '5',\n",
       " '5',\n",
       " '5',\n",
       " '5',\n",
       " '5',\n",
       " '5',\n",
       " '5',\n",
       " '5',\n",
       " '5',\n",
       " '5',\n",
       " '5',\n",
       " '5',\n",
       " '5',\n",
       " '5',\n",
       " '5',\n",
       " '5',\n",
       " '5',\n",
       " '5',\n",
       " '5',\n",
       " '5',\n",
       " '5',\n",
       " '5',\n",
       " '5',\n",
       " '5',\n",
       " '5',\n",
       " '5',\n",
       " '5',\n",
       " '5',\n",
       " '5',\n",
       " '5',\n",
       " '5',\n",
       " '5',\n",
       " '5',\n",
       " '5',\n",
       " '5',\n",
       " '5',\n",
       " '5',\n",
       " '5',\n",
       " '5',\n",
       " '5']"
      ]
     },
     "execution_count": 458,
     "metadata": {},
     "output_type": "execute_result"
    }
   ],
   "source": [
    "review_summaries"
   ]
  },
  {
   "cell_type": "code",
   "execution_count": 463,
   "id": "f67496c5",
   "metadata": {},
   "outputs": [],
   "source": [
    "full_reviews=[]"
   ]
  },
  {
   "cell_type": "code",
   "execution_count": 464,
   "id": "da6c9fb9",
   "metadata": {},
   "outputs": [],
   "source": [
    "start=0\n",
    "end=10\n",
    "for page in range(start,end):\n",
    "    reviews=driver.find_elements(By.XPATH,'//div[@class=\"ZmyHeo\"]/div/div')\n",
    "    for i in reviews:\n",
    "        full_reviews.append(i.text)\n",
    "    next_button=driver.find_element(By.XPATH,'//p[@class=\"z9E0IG\"]')\n",
    "    next_button.click()\n",
    "    time.sleep(3)"
   ]
  },
  {
   "cell_type": "code",
   "execution_count": 465,
   "id": "a294065c",
   "metadata": {},
   "outputs": [
    {
     "data": {
      "text/plain": [
       "100"
      ]
     },
     "execution_count": 465,
     "metadata": {},
     "output_type": "execute_result"
    }
   ],
   "source": [
    "len(full_reviews)"
   ]
  },
  {
   "cell_type": "code",
   "execution_count": 466,
   "id": "74eb6a17",
   "metadata": {},
   "outputs": [
    {
     "data": {
      "text/plain": [
       "['Very very good',\n",
       " 'This is amazing at all',\n",
       " 'Good Camera',\n",
       " 'Feeling awesome after getting the delivery of my phone. Dual speakers makes the sound quality very loud. Amazing!!',\n",
       " 'Perfect Product!!',\n",
       " 'Photos super',\n",
       " 'It’s really awesome',\n",
       " 'Camera is awesome\\nBest battery backup\\nA performer 👌🏻\\nIt will be a real value for money if they provide charger and earphone inbox!',\n",
       " 'Value for money 😍',\n",
       " 'Superbb performance n camera is awesome 😍😍',\n",
       " 'Very very good',\n",
       " 'This is amazing at all',\n",
       " 'Good Camera',\n",
       " 'Feeling awesome after getting the delivery of my phone. Dual speakers makes the sound quality very loud. Amazing!!',\n",
       " 'Perfect Product!!',\n",
       " 'Photos super',\n",
       " 'It’s really awesome',\n",
       " 'Camera is awesome\\nBest battery backup\\nA performer 👌🏻\\nIt will be a real value for money if they provide charger and earphone inbox!',\n",
       " 'Value for money 😍',\n",
       " 'Superbb performance n camera is awesome 😍😍',\n",
       " 'Very very good',\n",
       " 'This is amazing at all',\n",
       " 'Good Camera',\n",
       " 'Feeling awesome after getting the delivery of my phone. Dual speakers makes the sound quality very loud. Amazing!!',\n",
       " 'Perfect Product!!',\n",
       " 'Photos super',\n",
       " 'It’s really awesome',\n",
       " 'Camera is awesome\\nBest battery backup\\nA performer 👌🏻\\nIt will be a real value for money if they provide charger and earphone inbox!',\n",
       " 'Value for money 😍',\n",
       " 'Superbb performance n camera is awesome 😍😍',\n",
       " 'Very very good',\n",
       " 'This is amazing at all',\n",
       " 'Good Camera',\n",
       " 'Feeling awesome after getting the delivery of my phone. Dual speakers makes the sound quality very loud. Amazing!!',\n",
       " 'Perfect Product!!',\n",
       " 'Photos super',\n",
       " 'It’s really awesome',\n",
       " 'Camera is awesome\\nBest battery backup\\nA performer 👌🏻\\nIt will be a real value for money if they provide charger and earphone inbox!',\n",
       " 'Value for money 😍',\n",
       " 'Superbb performance n camera is awesome 😍😍',\n",
       " 'Very very good',\n",
       " 'This is amazing at all',\n",
       " 'Good Camera',\n",
       " 'Feeling awesome after getting the delivery of my phone. Dual speakers makes the sound quality very loud. Amazing!!',\n",
       " 'Perfect Product!!',\n",
       " 'Photos super',\n",
       " 'It’s really awesome',\n",
       " 'Camera is awesome\\nBest battery backup\\nA performer 👌🏻\\nIt will be a real value for money if they provide charger and earphone inbox!',\n",
       " 'Value for money 😍',\n",
       " 'Superbb performance n camera is awesome 😍😍',\n",
       " 'Very very good',\n",
       " 'This is amazing at all',\n",
       " 'Good Camera',\n",
       " 'Feeling awesome after getting the delivery of my phone. Dual speakers makes the sound quality very loud. Amazing!!',\n",
       " 'Perfect Product!!',\n",
       " 'Photos super',\n",
       " 'It’s really awesome',\n",
       " 'Camera is awesome\\nBest battery backup\\nA performer 👌🏻\\nIt will be a real value for money if they provide charger and earphone inbox!',\n",
       " 'Value for money 😍',\n",
       " 'Superbb performance n camera is awesome 😍😍',\n",
       " 'Very very good',\n",
       " 'This is amazing at all',\n",
       " 'Good Camera',\n",
       " 'Feeling awesome after getting the delivery of my phone. Dual speakers makes the sound quality very loud. Amazing!!',\n",
       " 'Perfect Product!!',\n",
       " 'Photos super',\n",
       " 'It’s really awesome',\n",
       " 'Camera is awesome\\nBest battery backup\\nA performer 👌🏻\\nIt will be a real value for money if they provide charger and earphone inbox!',\n",
       " 'Value for money 😍',\n",
       " 'Superbb performance n camera is awesome 😍😍',\n",
       " 'Very very good',\n",
       " 'This is amazing at all',\n",
       " 'Good Camera',\n",
       " 'Feeling awesome after getting the delivery of my phone. Dual speakers makes the sound quality very loud. Amazing!!',\n",
       " 'Perfect Product!!',\n",
       " 'Photos super',\n",
       " 'It’s really awesome',\n",
       " 'Camera is awesome\\nBest battery backup\\nA performer 👌🏻\\nIt will be a real value for money if they provide charger and earphone inbox!',\n",
       " 'Value for money 😍',\n",
       " 'Superbb performance n camera is awesome 😍😍',\n",
       " 'Very very good',\n",
       " 'This is amazing at all',\n",
       " 'Good Camera',\n",
       " 'Feeling awesome after getting the delivery of my phone. Dual speakers makes the sound quality very loud. Amazing!!',\n",
       " 'Perfect Product!!',\n",
       " 'Photos super',\n",
       " 'It’s really awesome',\n",
       " 'Camera is awesome\\nBest battery backup\\nA performer 👌🏻\\nIt will be a real value for money if they provide charger and earphone inbox!',\n",
       " 'Value for money 😍',\n",
       " 'Superbb performance n camera is awesome 😍😍',\n",
       " 'Very very good',\n",
       " 'This is amazing at all',\n",
       " 'Good Camera',\n",
       " 'Feeling awesome after getting the delivery of my phone. Dual speakers makes the sound quality very loud. Amazing!!',\n",
       " 'Perfect Product!!',\n",
       " 'Photos super',\n",
       " 'It’s really awesome',\n",
       " 'Camera is awesome\\nBest battery backup\\nA performer 👌🏻\\nIt will be a real value for money if they provide charger and earphone inbox!',\n",
       " 'Value for money 😍',\n",
       " 'Superbb performance n camera is awesome 😍😍']"
      ]
     },
     "execution_count": 466,
     "metadata": {},
     "output_type": "execute_result"
    }
   ],
   "source": [
    "full_reviews"
   ]
  },
  {
   "cell_type": "code",
   "execution_count": null,
   "id": "34647bca",
   "metadata": {},
   "outputs": [],
   "source": []
  },
  {
   "cell_type": "code",
   "execution_count": 470,
   "id": "ce913969",
   "metadata": {},
   "outputs": [],
   "source": [
    "#Q4: Scrape data forfirst 100 sneakers you find whenyouvisitflipkart.com and search for “sneakers” inthe search field."
   ]
  },
  {
   "cell_type": "code",
   "execution_count": 471,
   "id": "7226a1f3",
   "metadata": {},
   "outputs": [],
   "source": [
    "#You have to scrape 3 attributes of each sneaker:\n",
    "#1. Brand\n",
    "#2. ProductDescription\n",
    "#3. Price"
   ]
  },
  {
   "cell_type": "code",
   "execution_count": 539,
   "id": "b6f4fd9d",
   "metadata": {},
   "outputs": [],
   "source": [
    "#opening the flipkart page on automated chrome browser\n",
    "\n",
    "driver.get(\"https://www.flipkart.com/\")"
   ]
  },
  {
   "cell_type": "code",
   "execution_count": 540,
   "id": "3be2e385",
   "metadata": {},
   "outputs": [],
   "source": [
    "brand=[]\n",
    "product_description=[]\n",
    "price=[]"
   ]
  },
  {
   "cell_type": "code",
   "execution_count": 541,
   "id": "c6628bda",
   "metadata": {},
   "outputs": [],
   "source": [
    "#scrapping brand as instructed\n",
    "brand_tags=driver.find_elements(By.XPATH,'//div[@class=\"syl9yP\"]')\n",
    "for i in brand_tags:\n",
    "    brand=i.text\n",
    "    brand.append(brand)\n",
    "    \n",
    "    #scrapping product description as instructed\n",
    "description_tags=driver.find_elements(By.XPATH,'//a[@class=\"WKTcLC\"]')\n",
    "for i in description_tags:\n",
    "    description=i.text\n",
    "    product_description.append(description)\n",
    "    \n",
    "    #scrapping price as instructed\n",
    "price_tags=driver.find_elements(By.XPATH,'//div[@class=\"Nx9bqj\"]')\n",
    "for i in price_tags:\n",
    "    price=i.text\n",
    "    price.append(price)"
   ]
  },
  {
   "cell_type": "code",
   "execution_count": 544,
   "id": "ae13f0a5",
   "metadata": {},
   "outputs": [
    {
     "data": {
      "text/plain": [
       "[<selenium.webdriver.remote.webelement.WebElement (session=\"aae8a71c18b35d702cff329f41d73b27\", element=\"f.89AF750DA44B1C69972F87E93CF418D1.d.353EE7F79131ADD20608210AC84011F5.e.291\")>,\n",
       " <selenium.webdriver.remote.webelement.WebElement (session=\"aae8a71c18b35d702cff329f41d73b27\", element=\"f.89AF750DA44B1C69972F87E93CF418D1.d.353EE7F79131ADD20608210AC84011F5.e.292\")>]"
      ]
     },
     "execution_count": 544,
     "metadata": {},
     "output_type": "execute_result"
    }
   ],
   "source": [
    "#to fetch the url\n",
    "url=driver.find_elements(By.XPATH,'//div[@class=\"r2CdBx\"]/a')\n",
    "url[0:4]"
   ]
  },
  {
   "cell_type": "code",
   "execution_count": 545,
   "id": "f7e97319",
   "metadata": {},
   "outputs": [
    {
     "name": "stdout",
     "output_type": "stream",
     "text": [
      "https://www.flipkart.com/\n",
      "https://www.flipkart.com/footwear/pr?sid=osp&marketplace=FLIPKART\n"
     ]
    }
   ],
   "source": [
    "for i in url[0:4]: #Lets provide range to print only top 4 data\n",
    "    print(i.get_attribute('href'))"
   ]
  },
  {
   "cell_type": "code",
   "execution_count": 546,
   "id": "5f53747c",
   "metadata": {},
   "outputs": [],
   "source": [
    "brands=[]"
   ]
  },
  {
   "cell_type": "code",
   "execution_count": 562,
   "id": "db5bf593",
   "metadata": {},
   "outputs": [],
   "source": [
    "start=0\n",
    "end=3\n",
    "for page in range(start,end):\n",
    "    brands=driver.find_elements(By.XPATH,'//div[@class=\"syl9yP\"]')\n",
    "    for i in brands:\n",
    "        brands.append(i.text)\n",
    "    next_button=driver.find_elements(By.XPATH,'/html/body/div/div/div[3]/div[1]/div[2]/div[12]/div/div/nav/a[11]/span')\n",
    "    next_button.click()\n",
    "    time.sleep(3)"
   ]
  },
  {
   "cell_type": "code",
   "execution_count": 560,
   "id": "e96f0689",
   "metadata": {},
   "outputs": [
    {
     "data": {
      "text/plain": [
       "80"
      ]
     },
     "execution_count": 560,
     "metadata": {},
     "output_type": "execute_result"
    }
   ],
   "source": [
    "len(brands)"
   ]
  },
  {
   "cell_type": "code",
   "execution_count": 561,
   "id": "55dad0dd",
   "metadata": {},
   "outputs": [
    {
     "data": {
      "text/plain": [
       "[<selenium.webdriver.remote.webelement.WebElement (session=\"aae8a71c18b35d702cff329f41d73b27\", element=\"f.89AF750DA44B1C69972F87E93CF418D1.d.353EE7F79131ADD20608210AC84011F5.e.293\")>,\n",
       " <selenium.webdriver.remote.webelement.WebElement (session=\"aae8a71c18b35d702cff329f41d73b27\", element=\"f.89AF750DA44B1C69972F87E93CF418D1.d.353EE7F79131ADD20608210AC84011F5.e.294\")>,\n",
       " <selenium.webdriver.remote.webelement.WebElement (session=\"aae8a71c18b35d702cff329f41d73b27\", element=\"f.89AF750DA44B1C69972F87E93CF418D1.d.353EE7F79131ADD20608210AC84011F5.e.295\")>,\n",
       " <selenium.webdriver.remote.webelement.WebElement (session=\"aae8a71c18b35d702cff329f41d73b27\", element=\"f.89AF750DA44B1C69972F87E93CF418D1.d.353EE7F79131ADD20608210AC84011F5.e.296\")>,\n",
       " <selenium.webdriver.remote.webelement.WebElement (session=\"aae8a71c18b35d702cff329f41d73b27\", element=\"f.89AF750DA44B1C69972F87E93CF418D1.d.353EE7F79131ADD20608210AC84011F5.e.297\")>,\n",
       " <selenium.webdriver.remote.webelement.WebElement (session=\"aae8a71c18b35d702cff329f41d73b27\", element=\"f.89AF750DA44B1C69972F87E93CF418D1.d.353EE7F79131ADD20608210AC84011F5.e.298\")>,\n",
       " <selenium.webdriver.remote.webelement.WebElement (session=\"aae8a71c18b35d702cff329f41d73b27\", element=\"f.89AF750DA44B1C69972F87E93CF418D1.d.353EE7F79131ADD20608210AC84011F5.e.299\")>,\n",
       " <selenium.webdriver.remote.webelement.WebElement (session=\"aae8a71c18b35d702cff329f41d73b27\", element=\"f.89AF750DA44B1C69972F87E93CF418D1.d.353EE7F79131ADD20608210AC84011F5.e.300\")>,\n",
       " <selenium.webdriver.remote.webelement.WebElement (session=\"aae8a71c18b35d702cff329f41d73b27\", element=\"f.89AF750DA44B1C69972F87E93CF418D1.d.353EE7F79131ADD20608210AC84011F5.e.301\")>,\n",
       " <selenium.webdriver.remote.webelement.WebElement (session=\"aae8a71c18b35d702cff329f41d73b27\", element=\"f.89AF750DA44B1C69972F87E93CF418D1.d.353EE7F79131ADD20608210AC84011F5.e.302\")>,\n",
       " <selenium.webdriver.remote.webelement.WebElement (session=\"aae8a71c18b35d702cff329f41d73b27\", element=\"f.89AF750DA44B1C69972F87E93CF418D1.d.353EE7F79131ADD20608210AC84011F5.e.303\")>,\n",
       " <selenium.webdriver.remote.webelement.WebElement (session=\"aae8a71c18b35d702cff329f41d73b27\", element=\"f.89AF750DA44B1C69972F87E93CF418D1.d.353EE7F79131ADD20608210AC84011F5.e.304\")>,\n",
       " <selenium.webdriver.remote.webelement.WebElement (session=\"aae8a71c18b35d702cff329f41d73b27\", element=\"f.89AF750DA44B1C69972F87E93CF418D1.d.353EE7F79131ADD20608210AC84011F5.e.305\")>,\n",
       " <selenium.webdriver.remote.webelement.WebElement (session=\"aae8a71c18b35d702cff329f41d73b27\", element=\"f.89AF750DA44B1C69972F87E93CF418D1.d.353EE7F79131ADD20608210AC84011F5.e.306\")>,\n",
       " <selenium.webdriver.remote.webelement.WebElement (session=\"aae8a71c18b35d702cff329f41d73b27\", element=\"f.89AF750DA44B1C69972F87E93CF418D1.d.353EE7F79131ADD20608210AC84011F5.e.307\")>,\n",
       " <selenium.webdriver.remote.webelement.WebElement (session=\"aae8a71c18b35d702cff329f41d73b27\", element=\"f.89AF750DA44B1C69972F87E93CF418D1.d.353EE7F79131ADD20608210AC84011F5.e.308\")>,\n",
       " <selenium.webdriver.remote.webelement.WebElement (session=\"aae8a71c18b35d702cff329f41d73b27\", element=\"f.89AF750DA44B1C69972F87E93CF418D1.d.353EE7F79131ADD20608210AC84011F5.e.309\")>,\n",
       " <selenium.webdriver.remote.webelement.WebElement (session=\"aae8a71c18b35d702cff329f41d73b27\", element=\"f.89AF750DA44B1C69972F87E93CF418D1.d.353EE7F79131ADD20608210AC84011F5.e.310\")>,\n",
       " <selenium.webdriver.remote.webelement.WebElement (session=\"aae8a71c18b35d702cff329f41d73b27\", element=\"f.89AF750DA44B1C69972F87E93CF418D1.d.353EE7F79131ADD20608210AC84011F5.e.311\")>,\n",
       " <selenium.webdriver.remote.webelement.WebElement (session=\"aae8a71c18b35d702cff329f41d73b27\", element=\"f.89AF750DA44B1C69972F87E93CF418D1.d.353EE7F79131ADD20608210AC84011F5.e.312\")>,\n",
       " <selenium.webdriver.remote.webelement.WebElement (session=\"aae8a71c18b35d702cff329f41d73b27\", element=\"f.89AF750DA44B1C69972F87E93CF418D1.d.353EE7F79131ADD20608210AC84011F5.e.313\")>,\n",
       " <selenium.webdriver.remote.webelement.WebElement (session=\"aae8a71c18b35d702cff329f41d73b27\", element=\"f.89AF750DA44B1C69972F87E93CF418D1.d.353EE7F79131ADD20608210AC84011F5.e.314\")>,\n",
       " <selenium.webdriver.remote.webelement.WebElement (session=\"aae8a71c18b35d702cff329f41d73b27\", element=\"f.89AF750DA44B1C69972F87E93CF418D1.d.353EE7F79131ADD20608210AC84011F5.e.315\")>,\n",
       " <selenium.webdriver.remote.webelement.WebElement (session=\"aae8a71c18b35d702cff329f41d73b27\", element=\"f.89AF750DA44B1C69972F87E93CF418D1.d.353EE7F79131ADD20608210AC84011F5.e.316\")>,\n",
       " <selenium.webdriver.remote.webelement.WebElement (session=\"aae8a71c18b35d702cff329f41d73b27\", element=\"f.89AF750DA44B1C69972F87E93CF418D1.d.353EE7F79131ADD20608210AC84011F5.e.317\")>,\n",
       " <selenium.webdriver.remote.webelement.WebElement (session=\"aae8a71c18b35d702cff329f41d73b27\", element=\"f.89AF750DA44B1C69972F87E93CF418D1.d.353EE7F79131ADD20608210AC84011F5.e.318\")>,\n",
       " <selenium.webdriver.remote.webelement.WebElement (session=\"aae8a71c18b35d702cff329f41d73b27\", element=\"f.89AF750DA44B1C69972F87E93CF418D1.d.353EE7F79131ADD20608210AC84011F5.e.319\")>,\n",
       " <selenium.webdriver.remote.webelement.WebElement (session=\"aae8a71c18b35d702cff329f41d73b27\", element=\"f.89AF750DA44B1C69972F87E93CF418D1.d.353EE7F79131ADD20608210AC84011F5.e.320\")>,\n",
       " <selenium.webdriver.remote.webelement.WebElement (session=\"aae8a71c18b35d702cff329f41d73b27\", element=\"f.89AF750DA44B1C69972F87E93CF418D1.d.353EE7F79131ADD20608210AC84011F5.e.321\")>,\n",
       " <selenium.webdriver.remote.webelement.WebElement (session=\"aae8a71c18b35d702cff329f41d73b27\", element=\"f.89AF750DA44B1C69972F87E93CF418D1.d.353EE7F79131ADD20608210AC84011F5.e.322\")>,\n",
       " <selenium.webdriver.remote.webelement.WebElement (session=\"aae8a71c18b35d702cff329f41d73b27\", element=\"f.89AF750DA44B1C69972F87E93CF418D1.d.353EE7F79131ADD20608210AC84011F5.e.323\")>,\n",
       " <selenium.webdriver.remote.webelement.WebElement (session=\"aae8a71c18b35d702cff329f41d73b27\", element=\"f.89AF750DA44B1C69972F87E93CF418D1.d.353EE7F79131ADD20608210AC84011F5.e.324\")>,\n",
       " <selenium.webdriver.remote.webelement.WebElement (session=\"aae8a71c18b35d702cff329f41d73b27\", element=\"f.89AF750DA44B1C69972F87E93CF418D1.d.353EE7F79131ADD20608210AC84011F5.e.325\")>,\n",
       " <selenium.webdriver.remote.webelement.WebElement (session=\"aae8a71c18b35d702cff329f41d73b27\", element=\"f.89AF750DA44B1C69972F87E93CF418D1.d.353EE7F79131ADD20608210AC84011F5.e.326\")>,\n",
       " <selenium.webdriver.remote.webelement.WebElement (session=\"aae8a71c18b35d702cff329f41d73b27\", element=\"f.89AF750DA44B1C69972F87E93CF418D1.d.353EE7F79131ADD20608210AC84011F5.e.327\")>,\n",
       " <selenium.webdriver.remote.webelement.WebElement (session=\"aae8a71c18b35d702cff329f41d73b27\", element=\"f.89AF750DA44B1C69972F87E93CF418D1.d.353EE7F79131ADD20608210AC84011F5.e.328\")>,\n",
       " <selenium.webdriver.remote.webelement.WebElement (session=\"aae8a71c18b35d702cff329f41d73b27\", element=\"f.89AF750DA44B1C69972F87E93CF418D1.d.353EE7F79131ADD20608210AC84011F5.e.329\")>,\n",
       " <selenium.webdriver.remote.webelement.WebElement (session=\"aae8a71c18b35d702cff329f41d73b27\", element=\"f.89AF750DA44B1C69972F87E93CF418D1.d.353EE7F79131ADD20608210AC84011F5.e.330\")>,\n",
       " <selenium.webdriver.remote.webelement.WebElement (session=\"aae8a71c18b35d702cff329f41d73b27\", element=\"f.89AF750DA44B1C69972F87E93CF418D1.d.353EE7F79131ADD20608210AC84011F5.e.331\")>,\n",
       " <selenium.webdriver.remote.webelement.WebElement (session=\"aae8a71c18b35d702cff329f41d73b27\", element=\"f.89AF750DA44B1C69972F87E93CF418D1.d.353EE7F79131ADD20608210AC84011F5.e.332\")>,\n",
       " 'BRUTON',\n",
       " 'BRUTON',\n",
       " 'URBANBOX',\n",
       " 'Deals4you',\n",
       " 'aadi',\n",
       " 'asian',\n",
       " 'BRUTON',\n",
       " 'BRUTON',\n",
       " 'BIG FOX',\n",
       " 'VENDOZ',\n",
       " 'BRUTON',\n",
       " 'BRUTON',\n",
       " 'asian',\n",
       " 'aadi',\n",
       " 'RapidBox',\n",
       " 'asian',\n",
       " 'BRUTON',\n",
       " 'aadi',\n",
       " 'Footox',\n",
       " 'RapidBox',\n",
       " 'Robbie jones',\n",
       " 'BRUTON',\n",
       " 'aadi',\n",
       " 'Deals4you',\n",
       " 'asian',\n",
       " 'PUMA',\n",
       " 'BRUTON',\n",
       " 'Robbie jones',\n",
       " 'asian',\n",
       " 'RapidBox',\n",
       " 'aadi',\n",
       " 'Robbie jones',\n",
       " 'asian',\n",
       " 'asian',\n",
       " 'VENDOZ',\n",
       " 'ATOM',\n",
       " 'Sparx',\n",
       " 'RapidBox',\n",
       " 'asian',\n",
       " 'Red Tape']"
      ]
     },
     "execution_count": 561,
     "metadata": {},
     "output_type": "execute_result"
    }
   ],
   "source": [
    "brands"
   ]
  },
  {
   "cell_type": "code",
   "execution_count": 509,
   "id": "4fd2b5ba",
   "metadata": {},
   "outputs": [],
   "source": [
    "product_descriptions=[]"
   ]
  },
  {
   "cell_type": "code",
   "execution_count": 570,
   "id": "2f4aade5",
   "metadata": {},
   "outputs": [
    {
     "ename": "AttributeError",
     "evalue": "'list' object has no attribute 'click'",
     "output_type": "error",
     "traceback": [
      "\u001b[1;31m---------------------------------------------------------------------------\u001b[0m",
      "\u001b[1;31mAttributeError\u001b[0m                            Traceback (most recent call last)",
      "Cell \u001b[1;32mIn[570], line 8\u001b[0m\n\u001b[0;32m      6\u001b[0m     product_descriptions\u001b[38;5;241m.\u001b[39mappend(i\u001b[38;5;241m.\u001b[39mtext)\n\u001b[0;32m      7\u001b[0m next_button\u001b[38;5;241m=\u001b[39mdriver\u001b[38;5;241m.\u001b[39mfind_elements(By\u001b[38;5;241m.\u001b[39mXPATH,\u001b[38;5;124m'\u001b[39m\u001b[38;5;124m/html/body/div/div/div[3]/div[1]/div[2]/div[12]/div/div/nav/a[11]/span\u001b[39m\u001b[38;5;124m'\u001b[39m)\n\u001b[1;32m----> 8\u001b[0m \u001b[43mnext_button\u001b[49m\u001b[38;5;241;43m.\u001b[39;49m\u001b[43mclick\u001b[49m()\n\u001b[0;32m      9\u001b[0m time\u001b[38;5;241m.\u001b[39msleep(\u001b[38;5;241m3\u001b[39m)\n",
      "\u001b[1;31mAttributeError\u001b[0m: 'list' object has no attribute 'click'"
     ]
    }
   ],
   "source": [
    "start=0\n",
    "end=3\n",
    "for page in range(start,end):\n",
    "    descriptions=driver.find_elements(By.XPATH,'//a[@class=\"WKTcLC\"]')\n",
    "    for i in descriptions:\n",
    "        product_descriptions.append(i.text)\n",
    "    next_button=driver.find_elements(By.XPATH,'/html/body/div/div/div[3]/div[1]/div[2]/div[12]/div/div/nav/a[11]/span')\n",
    "    next_button.click()\n",
    "    time.sleep(3)"
   ]
  },
  {
   "cell_type": "code",
   "execution_count": 571,
   "id": "55ef222c",
   "metadata": {},
   "outputs": [
    {
     "data": {
      "text/plain": [
       "390"
      ]
     },
     "execution_count": 571,
     "metadata": {},
     "output_type": "execute_result"
    }
   ],
   "source": [
    "len(product_descriptions)"
   ]
  },
  {
   "cell_type": "code",
   "execution_count": 572,
   "id": "9eabeaa5",
   "metadata": {},
   "outputs": [
    {
     "data": {
      "text/plain": [
       "['Modern Trendy Sneakers For Men',\n",
       " 'Trending Stylish Casual Outdoor Shoes Sneakers For Men',\n",
       " 'Sneakers For Women',\n",
       " 'Sneaker Casual Shoes For Men | Soft Cushion Insole || B...',\n",
       " 'Combo pack of 2 Trendy Men’s Casual Shoes Sneakers For ...',\n",
       " 'Super Comfy Crazy-1 Sneakers For Women',\n",
       " 'Sneakers For Women',\n",
       " 'Flat Sole Shoes for all Day wear with Memory Cushion Fo...',\n",
       " 'Mesh| Lightweight| Premiun| Comfort| Summer Tendy| Outd...',\n",
       " \"Women's Casual Sneaker Shoes For Women | Stylish and Co...\",\n",
       " 'Casual Sneakers Shoes For Men Mexico-11 Sneakers For Me...',\n",
       " 'Casual Shoes Sneakers For Women',\n",
       " 'Sneakers For Men',\n",
       " 'RS-X Mix Sneakers For Men',\n",
       " 'Casual Sneakers Shoes For Men Mexico-11 Sneakers For Me...',\n",
       " 'Sneakers For Men',\n",
       " 'SM 747 | Stylish, Comfortable | Sneakers For Men',\n",
       " 'Moscow-01 White Sneakers,Loafers,Chunky Shoes Sneakers ...',\n",
       " 'SM 747 | Stylish, Comfortable | Sneakers For Men',\n",
       " 'SM 406 Sneakers For Men',\n",
       " 'Carnival-02 Mens High Top Casual Chunky Sneakers For Me...',\n",
       " 'Casual Sneaker Shoes for Men | Soft Cushioned Insole ||...',\n",
       " 'Boston-01 Chunky Sneakers,Loafers,Walking Shoes Sneaker...',\n",
       " 'Sneakers For Men',\n",
       " 'SM 439 | Stylish, Comfortable | Sneakers For Men',\n",
       " 'SM 439 | Stylish, Comfortable | Sneakers For Men',\n",
       " 'Sneaker Casual Shoes For Men | Soft Cushion Insole, Sli...',\n",
       " 'Moscow-01 White Sneakers,Loafers,Chunky Shoes Sneakers ...',\n",
       " 'Modern Trendy Sneakers For Men',\n",
       " 'Trending Stylish Casual Outdoor Shoes Sneakers For Men',\n",
       " 'Sneakers For Women',\n",
       " 'Sneaker Casual Shoes For Men | Soft Cushion Insole || B...',\n",
       " 'Combo pack of 2 Trendy Men’s Casual Shoes Sneakers For ...',\n",
       " 'Super Comfy Crazy-1 Sneakers For Women',\n",
       " 'Sneakers For Women',\n",
       " 'Flat Sole Shoes for all Day wear with Memory Cushion Fo...',\n",
       " 'Mesh| Lightweight| Premiun| Comfort| Summer Tendy| Outd...',\n",
       " \"Women's Casual Sneaker Shoes For Women | Stylish and Co...\",\n",
       " 'Casual Sneakers Shoes For Men Mexico-11 Sneakers For Me...',\n",
       " 'Casual Shoes Sneakers For Women',\n",
       " 'Sneakers For Men',\n",
       " 'RS-X Mix Sneakers For Men',\n",
       " 'Casual Sneakers Shoes For Men Mexico-11 Sneakers For Me...',\n",
       " 'Sneakers For Men',\n",
       " 'SM 747 | Stylish, Comfortable | Sneakers For Men',\n",
       " 'Moscow-01 White Sneakers,Loafers,Chunky Shoes Sneakers ...',\n",
       " 'SM 747 | Stylish, Comfortable | Sneakers For Men',\n",
       " 'SM 162 | Stylish, Comfortable | Sneakers For Men',\n",
       " 'Carnival-02 Mens High Top Casual Chunky Sneakers For Me...',\n",
       " 'Casual Sneaker Shoes for Men | Soft Cushioned Insole ||...',\n",
       " 'Boston-01 Chunky Sneakers,Loafers,Walking Shoes Sneaker...',\n",
       " 'Sneakers For Men',\n",
       " 'SM 406 Sneakers For Men',\n",
       " 'SM 439 | Stylish, Comfortable | Sneakers For Men',\n",
       " 'Sneaker Casual Shoes For Men | Soft Cushion Insole, Sli...',\n",
       " 'Moscow-01 White Sneakers,Loafers,Chunky Shoes Sneakers ...',\n",
       " 'Modern Trendy Sneakers For Men',\n",
       " 'Trending Stylish Casual Outdoor Shoes Sneakers For Men',\n",
       " 'Sneakers For Women',\n",
       " 'Sneaker Casual Shoes For Men | Soft Cushion Insole || B...',\n",
       " 'Combo pack of 2 Trendy Men’s Casual Shoes Sneakers For ...',\n",
       " 'Super Comfy Crazy-1 Sneakers For Women',\n",
       " 'Sneakers For Women',\n",
       " 'Flat Sole Shoes for all Day wear with Memory Cushion Fo...',\n",
       " 'Mesh| Lightweight| Premiun| Comfort| Summer Tendy| Outd...',\n",
       " \"Women's Casual Sneaker Shoes For Women | Stylish and Co...\",\n",
       " 'Casual Sneakers Shoes For Men Mexico-11 Sneakers For Me...',\n",
       " 'Casual Shoes Sneakers For Women',\n",
       " 'Sneakers For Men',\n",
       " 'RS-X Mix Sneakers For Men',\n",
       " 'Casual Sneakers Shoes For Men Mexico-11 Sneakers For Me...',\n",
       " 'Sneakers For Men',\n",
       " 'SM 747 | Stylish, Comfortable | Sneakers For Men',\n",
       " 'Moscow-01 White Sneakers,Loafers,Chunky Shoes Sneakers ...',\n",
       " 'SM 747 | Stylish, Comfortable | Sneakers For Men',\n",
       " 'SM 162 | Stylish, Comfortable | Sneakers For Men',\n",
       " 'Carnival-02 Mens High Top Casual Chunky Sneakers For Me...',\n",
       " 'Casual Sneaker Shoes for Men | Soft Cushioned Insole ||...',\n",
       " 'Boston-01 Chunky Sneakers,Loafers,Walking Shoes Sneaker...',\n",
       " 'Sneakers For Men',\n",
       " 'SM 406 Sneakers For Men',\n",
       " 'SM 439 | Stylish, Comfortable | Sneakers For Men',\n",
       " 'Sneaker Casual Shoes For Men | Soft Cushion Insole, Sli...',\n",
       " 'Moscow-01 White Sneakers,Loafers,Chunky Shoes Sneakers ...',\n",
       " 'Modern Trendy Sneakers For Men',\n",
       " 'Trending Stylish Casual Outdoor Shoes Sneakers For Men',\n",
       " 'Sneakers For Women',\n",
       " 'Sneaker Casual Shoes For Men | Soft Cushion Insole || B...',\n",
       " 'Combo pack of 2 Trendy Men’s Casual Shoes Sneakers For ...',\n",
       " 'Super Comfy Crazy-1 Sneakers For Women',\n",
       " 'Sneakers For Women',\n",
       " 'Flat Sole Shoes for all Day wear with Memory Cushion Fo...',\n",
       " 'Mesh| Lightweight| Premiun| Comfort| Summer Tendy| Outd...',\n",
       " \"Women's Casual Sneaker Shoes For Women | Stylish and Co...\",\n",
       " 'Casual Sneakers Shoes For Men Mexico-11 Sneakers For Me...',\n",
       " 'Casual Shoes Sneakers For Women',\n",
       " 'Sneakers For Men',\n",
       " 'RS-X Mix Sneakers For Men',\n",
       " 'Casual Sneakers Shoes For Men Mexico-11 Sneakers For Me...',\n",
       " 'Sneakers For Men',\n",
       " 'SM 747 | Stylish, Comfortable | Sneakers For Men',\n",
       " 'Moscow-01 White Sneakers,Loafers,Chunky Shoes Sneakers ...',\n",
       " 'SM 747 | Stylish, Comfortable | Sneakers For Men',\n",
       " 'SM 162 | Stylish, Comfortable | Sneakers For Men',\n",
       " 'Carnival-02 Mens High Top Casual Chunky Sneakers For Me...',\n",
       " 'Casual Sneaker Shoes for Men | Soft Cushioned Insole ||...',\n",
       " 'Boston-01 Chunky Sneakers,Loafers,Walking Shoes Sneaker...',\n",
       " 'Sneakers For Men',\n",
       " 'SM 406 Sneakers For Men',\n",
       " 'SM 439 | Stylish, Comfortable | Sneakers For Men',\n",
       " 'Sneaker Casual Shoes For Men | Soft Cushion Insole, Sli...',\n",
       " 'Moscow-01 White Sneakers,Loafers,Chunky Shoes Sneakers ...',\n",
       " 'Modern Trendy Sneakers For Men',\n",
       " 'Trending Stylish Casual Outdoor Shoes Sneakers For Men',\n",
       " 'Sneakers For Women',\n",
       " 'Sneaker Casual Shoes For Men | Soft Cushion Insole || B...',\n",
       " 'Combo pack of 2 Trendy Men’s Casual Shoes Sneakers For ...',\n",
       " 'Super Comfy Crazy-1 Sneakers For Women',\n",
       " 'Sneakers For Women',\n",
       " 'Flat Sole Shoes for all Day wear with Memory Cushion Fo...',\n",
       " 'Mesh| Lightweight| Premiun| Comfort| Summer Tendy| Outd...',\n",
       " \"Women's Casual Sneaker Shoes For Women | Stylish and Co...\",\n",
       " 'Casual Sneakers Shoes For Men Mexico-11 Sneakers For Me...',\n",
       " 'Casual Shoes Sneakers For Women',\n",
       " 'Sneakers For Men',\n",
       " 'RS-X Mix Sneakers For Men',\n",
       " 'Casual Sneakers Shoes For Men Mexico-11 Sneakers For Me...',\n",
       " 'Sneakers For Men',\n",
       " 'SM 747 | Stylish, Comfortable | Sneakers For Men',\n",
       " 'Moscow-01 White Sneakers,Loafers,Chunky Shoes Sneakers ...',\n",
       " 'SM 747 | Stylish, Comfortable | Sneakers For Men',\n",
       " 'SM 162 | Stylish, Comfortable | Sneakers For Men',\n",
       " 'Carnival-02 Mens High Top Casual Chunky Sneakers For Me...',\n",
       " 'Casual Sneaker Shoes for Men | Soft Cushioned Insole ||...',\n",
       " 'Boston-01 Chunky Sneakers,Loafers,Walking Shoes Sneaker...',\n",
       " 'Sneakers For Men',\n",
       " 'SM 406 Sneakers For Men',\n",
       " 'SM 439 | Stylish, Comfortable | Sneakers For Men',\n",
       " 'Sneaker Casual Shoes For Men | Soft Cushion Insole, Sli...',\n",
       " 'Moscow-01 White Sneakers,Loafers,Chunky Shoes Sneakers ...',\n",
       " 'Modern Trendy Sneakers For Men',\n",
       " 'Trending Stylish Casual Outdoor Shoes Sneakers For Men',\n",
       " 'Sneakers For Women',\n",
       " 'Sneaker Casual Shoes For Men | Soft Cushion Insole || B...',\n",
       " 'Combo pack of 2 Trendy Men’s Casual Shoes Sneakers For ...',\n",
       " 'Super Comfy Crazy-1 Sneakers For Women',\n",
       " 'Sneakers For Women',\n",
       " 'Flat Sole Shoes for all Day wear with Memory Cushion Fo...',\n",
       " 'Mesh| Lightweight| Premiun| Comfort| Summer Tendy| Outd...',\n",
       " 'Sneakers For Men',\n",
       " 'Casual Sneakers Shoes For Men Mexico-11 Sneakers For Me...',\n",
       " 'Casual Shoes Sneakers For Women',\n",
       " 'Sneakers For Men',\n",
       " 'Casual Sneakers Shoes For Men Mexico-11 Sneakers For Me...',\n",
       " 'RS-X Mix Sneakers For Men',\n",
       " 'Casual Canvas High Top Boots For Boys Sneakers For Men',\n",
       " 'Moscow-01 White Sneakers,Loafers,Chunky Shoes Sneakers ...',\n",
       " 'Sneakers For Men',\n",
       " 'Carnival-02 Mens High Top Casual Chunky Sneakers For Me...',\n",
       " 'Boston-01 Chunky Sneakers,Loafers,Walking Shoes Sneaker...',\n",
       " 'Casual Stylish Trending Sneakers For Women',\n",
       " 'SM 747 | Stylish, Comfortable | Sneakers For Men',\n",
       " 'Sneakers For Men',\n",
       " 'Casual Sneaker Shoes for Men | Soft Cushioned Insole ||...',\n",
       " 'Sneaker Casual Shoes For Men | Soft Cushion Insole, Sli...',\n",
       " 'Modern Trendy Sneakers For Men',\n",
       " 'Trending Stylish Casual Outdoor Shoes Sneakers For Men',\n",
       " 'Sneakers For Women',\n",
       " 'Sneaker Casual Shoes For Men | Soft Cushion Insole || B...',\n",
       " 'Combo pack of 2 Trendy Men’s Casual Shoes Sneakers For ...',\n",
       " 'Super Comfy Crazy-1 Sneakers For Women',\n",
       " 'Sneakers For Women',\n",
       " 'Flat Sole Shoes for all Day wear with Memory Cushion Fo...',\n",
       " 'Mesh| Lightweight| Premiun| Comfort| Summer Tendy| Outd...',\n",
       " 'Sneakers For Men',\n",
       " 'Casual Sneakers Shoes For Men Mexico-11 Sneakers For Me...',\n",
       " 'Casual Shoes Sneakers For Women',\n",
       " 'Sneakers For Men',\n",
       " 'Casual Sneakers Shoes For Men Mexico-11 Sneakers For Me...',\n",
       " 'RS-X Mix Sneakers For Men',\n",
       " 'Casual Canvas High Top Boots For Boys Sneakers For Men',\n",
       " 'Moscow-01 White Sneakers,Loafers,Chunky Shoes Sneakers ...',\n",
       " 'Sneakers For Men',\n",
       " 'Carnival-02 Mens High Top Casual Chunky Sneakers For Me...',\n",
       " 'Boston-01 Chunky Sneakers,Loafers,Walking Shoes Sneaker...',\n",
       " 'Casual Stylish Trending Sneakers For Women',\n",
       " 'SM 747 | Stylish, Comfortable | Sneakers For Men',\n",
       " 'Sneakers For Men',\n",
       " 'Casual Sneaker Shoes for Men | Soft Cushioned Insole ||...',\n",
       " 'Sneaker Casual Shoes For Men | Soft Cushion Insole, Sli...',\n",
       " 'Modern Trendy Sneakers For Men',\n",
       " 'Trending Stylish Casual Outdoor Shoes Sneakers For Men',\n",
       " 'Sneakers For Women',\n",
       " 'Sneaker Casual Shoes For Men | Soft Cushion Insole || B...',\n",
       " 'Combo pack of 2 Trendy Men’s Casual Shoes Sneakers For ...',\n",
       " 'Super Comfy Crazy-1 Sneakers For Women',\n",
       " 'Sneakers For Women',\n",
       " 'Flat Sole Shoes for all Day wear with Memory Cushion Fo...',\n",
       " 'Mesh| Lightweight| Premiun| Comfort| Summer Tendy| Outd...',\n",
       " 'Sneakers For Men',\n",
       " 'Casual Sneakers Shoes For Men Mexico-11 Sneakers For Me...',\n",
       " 'Casual Shoes Sneakers For Women',\n",
       " 'Sneakers For Men',\n",
       " 'Casual Sneakers Shoes For Men Mexico-11 Sneakers For Me...',\n",
       " 'RS-X Mix Sneakers For Men',\n",
       " 'Casual Canvas High Top Boots For Boys Sneakers For Men',\n",
       " 'Moscow-01 White Sneakers,Loafers,Chunky Shoes Sneakers ...',\n",
       " 'Sneakers For Men',\n",
       " 'Carnival-02 Mens High Top Casual Chunky Sneakers For Me...',\n",
       " 'Boston-01 Chunky Sneakers,Loafers,Walking Shoes Sneaker...',\n",
       " 'Casual Stylish Trending Sneakers For Women',\n",
       " 'SM 747 | Stylish, Comfortable | Sneakers For Men',\n",
       " 'Sneakers For Men',\n",
       " 'Casual Sneaker Shoes for Men | Soft Cushioned Insole ||...',\n",
       " 'Sneaker Casual Shoes For Men | Soft Cushion Insole, Sli...',\n",
       " 'Modern Trendy Sneakers For Men',\n",
       " 'Trending Stylish Casual Outdoor Shoes Sneakers For Men',\n",
       " 'Sneakers For Women',\n",
       " 'Sneaker Casual Shoes For Men | Soft Cushion Insole || B...',\n",
       " 'Combo pack of 2 Trendy Men’s Casual Shoes Sneakers For ...',\n",
       " 'Super Comfy Crazy-1 Sneakers For Women',\n",
       " 'Sneakers For Women',\n",
       " 'Flat Sole Shoes for all Day wear with Memory Cushion Fo...',\n",
       " 'Mesh| Lightweight| Premiun| Comfort| Summer Tendy| Outd...',\n",
       " 'Sneakers For Men',\n",
       " 'Casual Sneakers Shoes For Men Mexico-11 Sneakers For Me...',\n",
       " 'Casual Shoes Sneakers For Women',\n",
       " 'Sneakers For Men',\n",
       " 'Casual Sneakers Shoes For Men Mexico-11 Sneakers For Me...',\n",
       " 'RS-X Mix Sneakers For Men',\n",
       " 'Casual Canvas High Top Boots For Boys Sneakers For Men',\n",
       " 'Moscow-01 White Sneakers,Loafers,Chunky Shoes Sneakers ...',\n",
       " 'Sneakers For Men',\n",
       " 'Carnival-02 Mens High Top Casual Chunky Sneakers For Me...',\n",
       " 'Boston-01 Chunky Sneakers,Loafers,Walking Shoes Sneaker...',\n",
       " 'Casual Stylish Trending Sneakers For Women',\n",
       " 'SM 747 | Stylish, Comfortable | Sneakers For Men',\n",
       " 'Sneakers For Men',\n",
       " 'Casual Sneaker Shoes for Men | Soft Cushioned Insole ||...',\n",
       " 'Sneaker Casual Shoes For Men | Soft Cushion Insole, Sli...',\n",
       " 'Modern Trendy Sneakers For Men',\n",
       " 'Trending Stylish Casual Outdoor Shoes Sneakers For Men',\n",
       " 'Sneakers For Women',\n",
       " 'Sneaker Casual Shoes For Men | Soft Cushion Insole || B...',\n",
       " 'Combo pack of 2 Trendy Men’s Casual Shoes Sneakers For ...',\n",
       " 'Super Comfy Crazy-1 Sneakers For Women',\n",
       " 'Sneakers For Women',\n",
       " 'Flat Sole Shoes for all Day wear with Memory Cushion Fo...',\n",
       " 'Mesh| Lightweight| Premiun| Comfort| Summer Tendy| Outd...',\n",
       " 'Sneakers For Men',\n",
       " 'Casual Sneakers Shoes For Men Mexico-11 Sneakers For Me...',\n",
       " 'Casual Shoes Sneakers For Women',\n",
       " 'Sneakers For Men',\n",
       " 'Casual Sneakers Shoes For Men Mexico-11 Sneakers For Me...',\n",
       " 'RS-X Mix Sneakers For Men',\n",
       " 'Casual Canvas High Top Boots For Boys Sneakers For Men',\n",
       " 'Moscow-01 White Sneakers,Loafers,Chunky Shoes Sneakers ...',\n",
       " 'Sneakers For Men',\n",
       " 'Carnival-02 Mens High Top Casual Chunky Sneakers For Me...',\n",
       " 'Boston-01 Chunky Sneakers,Loafers,Walking Shoes Sneaker...',\n",
       " 'Casual Stylish Trending Sneakers For Women',\n",
       " 'SM 747 | Stylish, Comfortable | Sneakers For Men',\n",
       " 'Sneakers For Men',\n",
       " 'Casual Sneaker Shoes for Men | Soft Cushioned Insole ||...',\n",
       " 'Sneaker Casual Shoes For Men | Soft Cushion Insole, Sli...',\n",
       " 'Modern Trendy Sneakers For Men',\n",
       " 'Trending Stylish Casual Outdoor Shoes Sneakers For Men',\n",
       " 'Sneakers For Women',\n",
       " 'Sneaker Casual Shoes For Men | Soft Cushion Insole || B...',\n",
       " 'Combo pack of 2 Trendy Men’s Casual Shoes Sneakers For ...',\n",
       " 'Super Comfy Crazy-1 Sneakers For Women',\n",
       " 'Sneakers For Women',\n",
       " 'Flat Sole Shoes for all Day wear with Memory Cushion Fo...',\n",
       " 'Mesh| Lightweight| Premiun| Comfort| Summer Tendy| Outd...',\n",
       " 'Sneakers For Men',\n",
       " 'Casual Sneakers Shoes For Men Mexico-11 Sneakers For Me...',\n",
       " 'Casual Shoes Sneakers For Women',\n",
       " 'Sneakers For Men',\n",
       " 'Casual Sneakers Shoes For Men Mexico-11 Sneakers For Me...',\n",
       " 'RS-X Mix Sneakers For Men',\n",
       " 'Casual Canvas High Top Boots For Boys Sneakers For Men',\n",
       " 'Moscow-01 White Sneakers,Loafers,Chunky Shoes Sneakers ...',\n",
       " 'Sneakers For Men',\n",
       " 'Carnival-02 Mens High Top Casual Chunky Sneakers For Me...',\n",
       " 'Boston-01 Chunky Sneakers,Loafers,Walking Shoes Sneaker...',\n",
       " 'Casual Stylish Trending Sneakers For Women',\n",
       " 'SM 747 | Stylish, Comfortable | Sneakers For Men',\n",
       " 'Sneakers For Men',\n",
       " 'Casual Sneaker Shoes for Men | Soft Cushioned Insole ||...',\n",
       " 'Sneaker Casual Shoes For Men | Soft Cushion Insole, Sli...',\n",
       " 'Modern Trendy Sneakers For Men',\n",
       " 'Trending Stylish Casual Outdoor Shoes Sneakers For Men',\n",
       " 'Sneakers For Women',\n",
       " 'Sneaker Casual Shoes For Men | Soft Cushion Insole || B...',\n",
       " 'Combo pack of 2 Trendy Men’s Casual Shoes Sneakers For ...',\n",
       " 'Super Comfy Crazy-1 Sneakers For Women',\n",
       " 'Sneakers For Women',\n",
       " 'Flat Sole Shoes for all Day wear with Memory Cushion Fo...',\n",
       " 'Mesh| Lightweight| Premiun| Comfort| Summer Tendy| Outd...',\n",
       " 'Sneakers For Men',\n",
       " 'Casual Sneakers Shoes For Men Mexico-11 Sneakers For Me...',\n",
       " 'Casual Shoes Sneakers For Women',\n",
       " 'Sneakers For Men',\n",
       " 'Casual Sneakers Shoes For Men Mexico-11 Sneakers For Me...',\n",
       " 'RS-X Mix Sneakers For Men',\n",
       " 'Casual Canvas High Top Boots For Boys Sneakers For Men',\n",
       " 'Moscow-01 White Sneakers,Loafers,Chunky Shoes Sneakers ...',\n",
       " 'Sneakers For Men',\n",
       " 'Carnival-02 Mens High Top Casual Chunky Sneakers For Me...',\n",
       " 'Boston-01 Chunky Sneakers,Loafers,Walking Shoes Sneaker...',\n",
       " 'Casual Stylish Trending Sneakers For Women',\n",
       " 'SM 747 | Stylish, Comfortable | Sneakers For Men',\n",
       " 'Sneakers For Men',\n",
       " 'Casual Sneaker Shoes for Men | Soft Cushioned Insole ||...',\n",
       " 'Sneaker Casual Shoes For Men | Soft Cushion Insole, Sli...',\n",
       " 'Modern Trendy Sneakers For Men',\n",
       " 'Trending Stylish Casual Outdoor Shoes Sneakers For Men',\n",
       " 'Sneakers For Women',\n",
       " 'Sneaker Casual Shoes For Men | Soft Cushion Insole || B...',\n",
       " 'Combo pack of 2 Trendy Men’s Casual Shoes Sneakers For ...',\n",
       " 'Super Comfy Crazy-1 Sneakers For Women',\n",
       " 'Sneakers For Women',\n",
       " 'Flat Sole Shoes for all Day wear with Memory Cushion Fo...',\n",
       " 'Mesh| Lightweight| Premiun| Comfort| Summer Tendy| Outd...',\n",
       " 'Sneakers For Men',\n",
       " 'Casual Sneakers Shoes For Men Mexico-11 Sneakers For Me...',\n",
       " 'Casual Shoes Sneakers For Women',\n",
       " 'Sneakers For Men',\n",
       " 'Casual Sneakers Shoes For Men Mexico-11 Sneakers For Me...',\n",
       " 'RS-X Mix Sneakers For Men',\n",
       " 'Casual Canvas High Top Boots For Boys Sneakers For Men',\n",
       " 'Moscow-01 White Sneakers,Loafers,Chunky Shoes Sneakers ...',\n",
       " 'Sneakers For Men',\n",
       " 'Carnival-02 Mens High Top Casual Chunky Sneakers For Me...',\n",
       " 'Boston-01 Chunky Sneakers,Loafers,Walking Shoes Sneaker...',\n",
       " 'Casual Stylish Trending Sneakers For Women',\n",
       " 'SM 747 | Stylish, Comfortable | Sneakers For Men',\n",
       " 'Sneakers For Men',\n",
       " 'Casual Sneaker Shoes for Men | Soft Cushioned Insole ||...',\n",
       " 'Sneaker Casual Shoes For Men | Soft Cushion Insole, Sli...',\n",
       " 'Modern Trendy Sneakers For Men',\n",
       " 'Trending Stylish Casual Outdoor Shoes Sneakers For Men',\n",
       " 'Sneakers For Women',\n",
       " 'Sneaker Casual Shoes For Men | Soft Cushion Insole || B...',\n",
       " 'Combo pack of 2 Trendy Men’s Casual Shoes Sneakers For ...',\n",
       " 'Super Comfy Crazy-1 Sneakers For Women',\n",
       " 'Sneakers For Women',\n",
       " 'Flat Sole Shoes for all Day wear with Memory Cushion Fo...',\n",
       " 'Mesh| Lightweight| Premiun| Comfort| Summer Tendy| Outd...',\n",
       " 'Sneakers For Men',\n",
       " 'Casual Sneakers Shoes For Men Mexico-11 Sneakers For Me...',\n",
       " 'Casual Shoes Sneakers For Women',\n",
       " 'Sneakers For Men',\n",
       " 'Casual Sneakers Shoes For Men Mexico-11 Sneakers For Me...',\n",
       " 'RS-X Mix Sneakers For Men',\n",
       " 'Casual Canvas High Top Boots For Boys Sneakers For Men',\n",
       " 'Moscow-01 White Sneakers,Loafers,Chunky Shoes Sneakers ...',\n",
       " 'Sneakers For Men',\n",
       " 'Carnival-02 Mens High Top Casual Chunky Sneakers For Me...',\n",
       " 'Boston-01 Chunky Sneakers,Loafers,Walking Shoes Sneaker...',\n",
       " 'Casual Stylish Trending Sneakers For Women',\n",
       " 'SM 747 | Stylish, Comfortable | Sneakers For Men',\n",
       " 'Sneakers For Men',\n",
       " 'Casual Sneaker Shoes for Men | Soft Cushioned Insole ||...',\n",
       " 'Sneaker Casual Shoes For Men | Soft Cushion Insole, Sli...',\n",
       " 'Modern Trendy Sneakers For Men',\n",
       " 'Trending Stylish Casual Outdoor Shoes Sneakers For Men',\n",
       " 'Sneakers For Women',\n",
       " 'Sneaker Casual Shoes For Men | Soft Cushion Insole || B...',\n",
       " 'Combo pack of 2 Trendy Men’s Casual Shoes Sneakers For ...',\n",
       " 'Super Comfy Crazy-1 Sneakers For Women',\n",
       " 'Sneakers For Women',\n",
       " 'Flat Sole Shoes for all Day wear with Memory Cushion Fo...',\n",
       " 'Mesh| Lightweight| Premiun| Comfort| Summer Tendy| Outd...',\n",
       " 'Sneakers For Men',\n",
       " 'Casual Sneakers Shoes For Men Mexico-11 Sneakers For Me...',\n",
       " 'Casual Shoes Sneakers For Women',\n",
       " 'Sneakers For Men',\n",
       " 'Casual Sneakers Shoes For Men Mexico-11 Sneakers For Me...',\n",
       " 'RS-X Mix Sneakers For Men',\n",
       " 'Casual Canvas High Top Boots For Boys Sneakers For Men',\n",
       " 'Moscow-01 White Sneakers,Loafers,Chunky Shoes Sneakers ...',\n",
       " 'Sneakers For Men',\n",
       " 'Carnival-02 Mens High Top Casual Chunky Sneakers For Me...',\n",
       " 'Boston-01 Chunky Sneakers,Loafers,Walking Shoes Sneaker...',\n",
       " 'Casual Stylish Trending Sneakers For Women',\n",
       " 'SM 747 | Stylish, Comfortable | Sneakers For Men',\n",
       " 'Sneakers For Men',\n",
       " 'Casual Sneaker Shoes for Men | Soft Cushioned Insole ||...',\n",
       " 'Sneaker Casual Shoes For Men | Soft Cushion Insole, Sli...']"
      ]
     },
     "execution_count": 572,
     "metadata": {},
     "output_type": "execute_result"
    }
   ],
   "source": [
    "product_descriptions"
   ]
  },
  {
   "cell_type": "code",
   "execution_count": 523,
   "id": "d8b491cc",
   "metadata": {},
   "outputs": [],
   "source": [
    "prices=[]"
   ]
  },
  {
   "cell_type": "code",
   "execution_count": 573,
   "id": "6fb09b12",
   "metadata": {},
   "outputs": [],
   "source": [
    "start=0\n",
    "end=3\n",
    "for page in range(start,end):\n",
    "    prices=driver.find_elements(By.XPATH,'//div[@class=\"Nx9bqj\"]')\n",
    "    for i in prices:\n",
    "        prices.append(i.text)\n",
    "    next_button=driver.find_element(By.XPATH,'/html/body/div/div/div[3]/div[1]/div[2]/div[12]/div/div/nav/a[11]/span')\n",
    "    next_button.click()\n",
    "    time.sleep(3)"
   ]
  },
  {
   "cell_type": "code",
   "execution_count": 574,
   "id": "de050d19",
   "metadata": {},
   "outputs": [
    {
     "data": {
      "text/plain": [
       "80"
      ]
     },
     "execution_count": 574,
     "metadata": {},
     "output_type": "execute_result"
    }
   ],
   "source": [
    "len(prices)"
   ]
  },
  {
   "cell_type": "code",
   "execution_count": 556,
   "id": "75731618",
   "metadata": {},
   "outputs": [
    {
     "data": {
      "text/plain": [
       "[<selenium.webdriver.remote.webelement.WebElement (session=\"aae8a71c18b35d702cff329f41d73b27\", element=\"f.89AF750DA44B1C69972F87E93CF418D1.d.353EE7F79131ADD20608210AC84011F5.e.359\")>,\n",
       " <selenium.webdriver.remote.webelement.WebElement (session=\"aae8a71c18b35d702cff329f41d73b27\", element=\"f.89AF750DA44B1C69972F87E93CF418D1.d.353EE7F79131ADD20608210AC84011F5.e.360\")>,\n",
       " <selenium.webdriver.remote.webelement.WebElement (session=\"aae8a71c18b35d702cff329f41d73b27\", element=\"f.89AF750DA44B1C69972F87E93CF418D1.d.353EE7F79131ADD20608210AC84011F5.e.361\")>,\n",
       " <selenium.webdriver.remote.webelement.WebElement (session=\"aae8a71c18b35d702cff329f41d73b27\", element=\"f.89AF750DA44B1C69972F87E93CF418D1.d.353EE7F79131ADD20608210AC84011F5.e.362\")>,\n",
       " <selenium.webdriver.remote.webelement.WebElement (session=\"aae8a71c18b35d702cff329f41d73b27\", element=\"f.89AF750DA44B1C69972F87E93CF418D1.d.353EE7F79131ADD20608210AC84011F5.e.363\")>,\n",
       " <selenium.webdriver.remote.webelement.WebElement (session=\"aae8a71c18b35d702cff329f41d73b27\", element=\"f.89AF750DA44B1C69972F87E93CF418D1.d.353EE7F79131ADD20608210AC84011F5.e.364\")>,\n",
       " <selenium.webdriver.remote.webelement.WebElement (session=\"aae8a71c18b35d702cff329f41d73b27\", element=\"f.89AF750DA44B1C69972F87E93CF418D1.d.353EE7F79131ADD20608210AC84011F5.e.365\")>,\n",
       " <selenium.webdriver.remote.webelement.WebElement (session=\"aae8a71c18b35d702cff329f41d73b27\", element=\"f.89AF750DA44B1C69972F87E93CF418D1.d.353EE7F79131ADD20608210AC84011F5.e.366\")>,\n",
       " <selenium.webdriver.remote.webelement.WebElement (session=\"aae8a71c18b35d702cff329f41d73b27\", element=\"f.89AF750DA44B1C69972F87E93CF418D1.d.353EE7F79131ADD20608210AC84011F5.e.367\")>,\n",
       " <selenium.webdriver.remote.webelement.WebElement (session=\"aae8a71c18b35d702cff329f41d73b27\", element=\"f.89AF750DA44B1C69972F87E93CF418D1.d.353EE7F79131ADD20608210AC84011F5.e.368\")>,\n",
       " <selenium.webdriver.remote.webelement.WebElement (session=\"aae8a71c18b35d702cff329f41d73b27\", element=\"f.89AF750DA44B1C69972F87E93CF418D1.d.353EE7F79131ADD20608210AC84011F5.e.369\")>,\n",
       " <selenium.webdriver.remote.webelement.WebElement (session=\"aae8a71c18b35d702cff329f41d73b27\", element=\"f.89AF750DA44B1C69972F87E93CF418D1.d.353EE7F79131ADD20608210AC84011F5.e.370\")>,\n",
       " <selenium.webdriver.remote.webelement.WebElement (session=\"aae8a71c18b35d702cff329f41d73b27\", element=\"f.89AF750DA44B1C69972F87E93CF418D1.d.353EE7F79131ADD20608210AC84011F5.e.371\")>,\n",
       " <selenium.webdriver.remote.webelement.WebElement (session=\"aae8a71c18b35d702cff329f41d73b27\", element=\"f.89AF750DA44B1C69972F87E93CF418D1.d.353EE7F79131ADD20608210AC84011F5.e.372\")>,\n",
       " <selenium.webdriver.remote.webelement.WebElement (session=\"aae8a71c18b35d702cff329f41d73b27\", element=\"f.89AF750DA44B1C69972F87E93CF418D1.d.353EE7F79131ADD20608210AC84011F5.e.373\")>,\n",
       " <selenium.webdriver.remote.webelement.WebElement (session=\"aae8a71c18b35d702cff329f41d73b27\", element=\"f.89AF750DA44B1C69972F87E93CF418D1.d.353EE7F79131ADD20608210AC84011F5.e.374\")>,\n",
       " <selenium.webdriver.remote.webelement.WebElement (session=\"aae8a71c18b35d702cff329f41d73b27\", element=\"f.89AF750DA44B1C69972F87E93CF418D1.d.353EE7F79131ADD20608210AC84011F5.e.375\")>,\n",
       " <selenium.webdriver.remote.webelement.WebElement (session=\"aae8a71c18b35d702cff329f41d73b27\", element=\"f.89AF750DA44B1C69972F87E93CF418D1.d.353EE7F79131ADD20608210AC84011F5.e.376\")>,\n",
       " <selenium.webdriver.remote.webelement.WebElement (session=\"aae8a71c18b35d702cff329f41d73b27\", element=\"f.89AF750DA44B1C69972F87E93CF418D1.d.353EE7F79131ADD20608210AC84011F5.e.377\")>,\n",
       " <selenium.webdriver.remote.webelement.WebElement (session=\"aae8a71c18b35d702cff329f41d73b27\", element=\"f.89AF750DA44B1C69972F87E93CF418D1.d.353EE7F79131ADD20608210AC84011F5.e.378\")>,\n",
       " <selenium.webdriver.remote.webelement.WebElement (session=\"aae8a71c18b35d702cff329f41d73b27\", element=\"f.89AF750DA44B1C69972F87E93CF418D1.d.353EE7F79131ADD20608210AC84011F5.e.379\")>,\n",
       " <selenium.webdriver.remote.webelement.WebElement (session=\"aae8a71c18b35d702cff329f41d73b27\", element=\"f.89AF750DA44B1C69972F87E93CF418D1.d.353EE7F79131ADD20608210AC84011F5.e.380\")>,\n",
       " <selenium.webdriver.remote.webelement.WebElement (session=\"aae8a71c18b35d702cff329f41d73b27\", element=\"f.89AF750DA44B1C69972F87E93CF418D1.d.353EE7F79131ADD20608210AC84011F5.e.381\")>,\n",
       " <selenium.webdriver.remote.webelement.WebElement (session=\"aae8a71c18b35d702cff329f41d73b27\", element=\"f.89AF750DA44B1C69972F87E93CF418D1.d.353EE7F79131ADD20608210AC84011F5.e.382\")>,\n",
       " <selenium.webdriver.remote.webelement.WebElement (session=\"aae8a71c18b35d702cff329f41d73b27\", element=\"f.89AF750DA44B1C69972F87E93CF418D1.d.353EE7F79131ADD20608210AC84011F5.e.383\")>,\n",
       " <selenium.webdriver.remote.webelement.WebElement (session=\"aae8a71c18b35d702cff329f41d73b27\", element=\"f.89AF750DA44B1C69972F87E93CF418D1.d.353EE7F79131ADD20608210AC84011F5.e.384\")>,\n",
       " <selenium.webdriver.remote.webelement.WebElement (session=\"aae8a71c18b35d702cff329f41d73b27\", element=\"f.89AF750DA44B1C69972F87E93CF418D1.d.353EE7F79131ADD20608210AC84011F5.e.385\")>,\n",
       " <selenium.webdriver.remote.webelement.WebElement (session=\"aae8a71c18b35d702cff329f41d73b27\", element=\"f.89AF750DA44B1C69972F87E93CF418D1.d.353EE7F79131ADD20608210AC84011F5.e.386\")>,\n",
       " <selenium.webdriver.remote.webelement.WebElement (session=\"aae8a71c18b35d702cff329f41d73b27\", element=\"f.89AF750DA44B1C69972F87E93CF418D1.d.353EE7F79131ADD20608210AC84011F5.e.387\")>,\n",
       " <selenium.webdriver.remote.webelement.WebElement (session=\"aae8a71c18b35d702cff329f41d73b27\", element=\"f.89AF750DA44B1C69972F87E93CF418D1.d.353EE7F79131ADD20608210AC84011F5.e.388\")>,\n",
       " <selenium.webdriver.remote.webelement.WebElement (session=\"aae8a71c18b35d702cff329f41d73b27\", element=\"f.89AF750DA44B1C69972F87E93CF418D1.d.353EE7F79131ADD20608210AC84011F5.e.389\")>,\n",
       " <selenium.webdriver.remote.webelement.WebElement (session=\"aae8a71c18b35d702cff329f41d73b27\", element=\"f.89AF750DA44B1C69972F87E93CF418D1.d.353EE7F79131ADD20608210AC84011F5.e.390\")>,\n",
       " <selenium.webdriver.remote.webelement.WebElement (session=\"aae8a71c18b35d702cff329f41d73b27\", element=\"f.89AF750DA44B1C69972F87E93CF418D1.d.353EE7F79131ADD20608210AC84011F5.e.391\")>,\n",
       " <selenium.webdriver.remote.webelement.WebElement (session=\"aae8a71c18b35d702cff329f41d73b27\", element=\"f.89AF750DA44B1C69972F87E93CF418D1.d.353EE7F79131ADD20608210AC84011F5.e.392\")>,\n",
       " <selenium.webdriver.remote.webelement.WebElement (session=\"aae8a71c18b35d702cff329f41d73b27\", element=\"f.89AF750DA44B1C69972F87E93CF418D1.d.353EE7F79131ADD20608210AC84011F5.e.393\")>,\n",
       " <selenium.webdriver.remote.webelement.WebElement (session=\"aae8a71c18b35d702cff329f41d73b27\", element=\"f.89AF750DA44B1C69972F87E93CF418D1.d.353EE7F79131ADD20608210AC84011F5.e.394\")>,\n",
       " <selenium.webdriver.remote.webelement.WebElement (session=\"aae8a71c18b35d702cff329f41d73b27\", element=\"f.89AF750DA44B1C69972F87E93CF418D1.d.353EE7F79131ADD20608210AC84011F5.e.395\")>,\n",
       " <selenium.webdriver.remote.webelement.WebElement (session=\"aae8a71c18b35d702cff329f41d73b27\", element=\"f.89AF750DA44B1C69972F87E93CF418D1.d.353EE7F79131ADD20608210AC84011F5.e.396\")>,\n",
       " <selenium.webdriver.remote.webelement.WebElement (session=\"aae8a71c18b35d702cff329f41d73b27\", element=\"f.89AF750DA44B1C69972F87E93CF418D1.d.353EE7F79131ADD20608210AC84011F5.e.397\")>,\n",
       " <selenium.webdriver.remote.webelement.WebElement (session=\"aae8a71c18b35d702cff329f41d73b27\", element=\"f.89AF750DA44B1C69972F87E93CF418D1.d.353EE7F79131ADD20608210AC84011F5.e.398\")>,\n",
       " '₹299',\n",
       " '₹299',\n",
       " '₹299',\n",
       " '₹399',\n",
       " '₹399',\n",
       " '₹777',\n",
       " '₹299',\n",
       " '₹549',\n",
       " '₹949',\n",
       " '₹599',\n",
       " '₹318',\n",
       " '₹299',\n",
       " '₹777',\n",
       " '₹319',\n",
       " '₹795',\n",
       " '₹749',\n",
       " '₹318',\n",
       " '₹299',\n",
       " '₹299',\n",
       " '₹795',\n",
       " '₹649',\n",
       " '₹318',\n",
       " '₹329',\n",
       " '₹399',\n",
       " '₹749',\n",
       " '₹2,909',\n",
       " '₹499',\n",
       " '₹649',\n",
       " '₹746',\n",
       " '₹795',\n",
       " '₹399',\n",
       " '₹649',\n",
       " '₹1,033',\n",
       " '₹777',\n",
       " '₹649',\n",
       " '₹1,685',\n",
       " '₹789',\n",
       " '₹795',\n",
       " '₹777',\n",
       " '₹1,709']"
      ]
     },
     "execution_count": 556,
     "metadata": {},
     "output_type": "execute_result"
    }
   ],
   "source": [
    "prices"
   ]
  },
  {
   "cell_type": "code",
   "execution_count": null,
   "id": "617cc126",
   "metadata": {},
   "outputs": [],
   "source": []
  },
  {
   "cell_type": "code",
   "execution_count": null,
   "id": "c99e6291",
   "metadata": {},
   "outputs": [],
   "source": [
    "\n"
   ]
  },
  {
   "cell_type": "code",
   "execution_count": 575,
   "id": "7f66b1df",
   "metadata": {},
   "outputs": [],
   "source": [
    "#Q5: Go to webpage https://www.amazon.in/ Enter “Laptop” in the search field and then click the search icon. Then set CPU Type filter to “Intel Core i7”\n",
    "#Aftersetting the filters scrape first 10 laptops data. You have to scrape 3 attributes for each laptop:\n",
    "#1. Title\n",
    "#2. Ratings\n",
    "#3. Price"
   ]
  },
  {
   "cell_type": "code",
   "execution_count": 90,
   "id": "99bb7d28",
   "metadata": {},
   "outputs": [],
   "source": [
    "driver = webdriver.Chrome()"
   ]
  },
  {
   "cell_type": "code",
   "execution_count": 91,
   "id": "de418f2f",
   "metadata": {},
   "outputs": [],
   "source": [
    "#opening the amazon page on automated chrome browser\n",
    "\n",
    "driver.get(\"https://www.amazon.in/\")"
   ]
  },
  {
   "cell_type": "code",
   "execution_count": 103,
   "id": "41f9cde4",
   "metadata": {},
   "outputs": [],
   "source": [
    "product_title=[]\n",
    "product_rating=[]\n",
    "product_price=[]"
   ]
  },
  {
   "cell_type": "code",
   "execution_count": 104,
   "id": "b3d879d7",
   "metadata": {},
   "outputs": [],
   "source": [
    "#scrapping the title as instructed\n",
    "title_tags=driver.find_elements(By.XPATH,'//h2[@class=\"a-size-mini a-spacing-none a-color-base s-line-clamp-2\"]')\n",
    "for i in title_tags:\n",
    "    title=i.text\n",
    "    product_title.append(title)\n",
    "\n",
    "    \n",
    "    #scrapping rating as instructed\n",
    "rating_tags=driver.find_elements(By.XPATH,'//span[@class=\"a-icon-alt\"]')\n",
    "for i in rating_tags:\n",
    "    rating=i.text\n",
    "    product_rating.append(rating)\n",
    "    \n",
    "    #scrapping price as instructed\n",
    "price_tags=driver.find_elements(By.XPATH,'//span[@class=\"a-price\"]')\n",
    "for i in price_tags:\n",
    "    price=i.text\n",
    "    product_price.append(price)"
   ]
  },
  {
   "cell_type": "code",
   "execution_count": 105,
   "id": "135aee2c",
   "metadata": {},
   "outputs": [
    {
     "data": {
      "text/plain": [
       "[<selenium.webdriver.remote.webelement.WebElement (session=\"a5b965f2d2d58dcb96a06160736aa877\", element=\"f.2DBE327EEEC80D77B8F1561DE3538B57.d.029CFAEBCB73654CA9C69B9B51EF10AB.e.993\")>]"
      ]
     },
     "execution_count": 105,
     "metadata": {},
     "output_type": "execute_result"
    }
   ],
   "source": [
    "#to fetch the url\n",
    "url=driver.find_elements(By.XPATH,'//a[@class=\"nav-logo-link nav-progressive-attribute\"]')\n",
    "url[0:4]"
   ]
  },
  {
   "cell_type": "code",
   "execution_count": 106,
   "id": "336521b9",
   "metadata": {},
   "outputs": [
    {
     "name": "stdout",
     "output_type": "stream",
     "text": [
      "https://www.amazon.in/ref=nav_logo\n"
     ]
    }
   ],
   "source": [
    "for i in url[0:4]: #Lets provide range to print only top 4 data\n",
    "    print(i.get_attribute('href'))"
   ]
  },
  {
   "cell_type": "code",
   "execution_count": 115,
   "id": "40d59add",
   "metadata": {},
   "outputs": [],
   "source": [
    "product_titles=[]"
   ]
  },
  {
   "cell_type": "code",
   "execution_count": 116,
   "id": "170786cf",
   "metadata": {},
   "outputs": [
    {
     "ename": "NoSuchWindowException",
     "evalue": "Message: no such window: target window already closed\nfrom unknown error: web view not found\n  (Session info: chrome=126.0.6478.127)\nStacktrace:\n\tGetHandleVerifier [0x00007FF61C3EEEA2+31554]\n\t(No symbol) [0x00007FF61C367ED9]\n\t(No symbol) [0x00007FF61C22872A]\n\t(No symbol) [0x00007FF61C1FD995]\n\t(No symbol) [0x00007FF61C2A44D7]\n\t(No symbol) [0x00007FF61C2BC051]\n\t(No symbol) [0x00007FF61C29CDD3]\n\t(No symbol) [0x00007FF61C26A33B]\n\t(No symbol) [0x00007FF61C26AED1]\n\tGetHandleVerifier [0x00007FF61C6F8B1D+3217341]\n\tGetHandleVerifier [0x00007FF61C745AE3+3532675]\n\tGetHandleVerifier [0x00007FF61C73B0E0+3489152]\n\tGetHandleVerifier [0x00007FF61C49E776+750614]\n\t(No symbol) [0x00007FF61C37375F]\n\t(No symbol) [0x00007FF61C36EB14]\n\t(No symbol) [0x00007FF61C36ECA2]\n\t(No symbol) [0x00007FF61C35E16F]\n\tBaseThreadInitThunk [0x00007FFEA75E257D+29]\n\tRtlUserThreadStart [0x00007FFEA7DEAF28+40]\n",
     "output_type": "error",
     "traceback": [
      "\u001b[1;31m---------------------------------------------------------------------------\u001b[0m",
      "\u001b[1;31mNoSuchWindowException\u001b[0m                     Traceback (most recent call last)",
      "Cell \u001b[1;32mIn[116], line 6\u001b[0m\n\u001b[0;32m      4\u001b[0m titles\u001b[38;5;241m=\u001b[39mdriver\u001b[38;5;241m.\u001b[39mfind_elements(By\u001b[38;5;241m.\u001b[39mXPATH,\u001b[38;5;124m'\u001b[39m\u001b[38;5;124m//h2[@class=\u001b[39m\u001b[38;5;124m\"\u001b[39m\u001b[38;5;124ma-size-mini a-spacing-none a-color-base s-line-clamp-2\u001b[39m\u001b[38;5;124m\"\u001b[39m\u001b[38;5;124m]\u001b[39m\u001b[38;5;124m'\u001b[39m)\n\u001b[0;32m      5\u001b[0m \u001b[38;5;28;01mfor\u001b[39;00m i \u001b[38;5;129;01min\u001b[39;00m ratings:\n\u001b[1;32m----> 6\u001b[0m     product_titles\u001b[38;5;241m.\u001b[39mappend(\u001b[43mi\u001b[49m\u001b[38;5;241;43m.\u001b[39;49m\u001b[43mtext\u001b[49m)\n\u001b[0;32m      7\u001b[0m next_button\u001b[38;5;241m=\u001b[39mdriver\u001b[38;5;241m.\u001b[39mfind_element(By\u001b[38;5;241m.\u001b[39mXPATH,\u001b[38;5;124m'\u001b[39m\u001b[38;5;124m/html/body/div[1]/div[1]/div[1]/div[1]/div/span[1]/div[1]/div[27]/div/div/span/a[3]\u001b[39m\u001b[38;5;124m'\u001b[39m)\n\u001b[0;32m      8\u001b[0m next_button\u001b[38;5;241m.\u001b[39mclick()\n",
      "File \u001b[1;32m~\\anaconda3\\lib\\site-packages\\selenium\\webdriver\\remote\\webelement.py:90\u001b[0m, in \u001b[0;36mWebElement.text\u001b[1;34m(self)\u001b[0m\n\u001b[0;32m     87\u001b[0m \u001b[38;5;129m@property\u001b[39m\n\u001b[0;32m     88\u001b[0m \u001b[38;5;28;01mdef\u001b[39;00m \u001b[38;5;21mtext\u001b[39m(\u001b[38;5;28mself\u001b[39m) \u001b[38;5;241m-\u001b[39m\u001b[38;5;241m>\u001b[39m \u001b[38;5;28mstr\u001b[39m:\n\u001b[0;32m     89\u001b[0m     \u001b[38;5;124;03m\"\"\"The text of the element.\"\"\"\u001b[39;00m\n\u001b[1;32m---> 90\u001b[0m     \u001b[38;5;28;01mreturn\u001b[39;00m \u001b[38;5;28;43mself\u001b[39;49m\u001b[38;5;241;43m.\u001b[39;49m\u001b[43m_execute\u001b[49m\u001b[43m(\u001b[49m\u001b[43mCommand\u001b[49m\u001b[38;5;241;43m.\u001b[39;49m\u001b[43mGET_ELEMENT_TEXT\u001b[49m\u001b[43m)\u001b[49m[\u001b[38;5;124m\"\u001b[39m\u001b[38;5;124mvalue\u001b[39m\u001b[38;5;124m\"\u001b[39m]\n",
      "File \u001b[1;32m~\\anaconda3\\lib\\site-packages\\selenium\\webdriver\\remote\\webelement.py:395\u001b[0m, in \u001b[0;36mWebElement._execute\u001b[1;34m(self, command, params)\u001b[0m\n\u001b[0;32m    393\u001b[0m     params \u001b[38;5;241m=\u001b[39m {}\n\u001b[0;32m    394\u001b[0m params[\u001b[38;5;124m\"\u001b[39m\u001b[38;5;124mid\u001b[39m\u001b[38;5;124m\"\u001b[39m] \u001b[38;5;241m=\u001b[39m \u001b[38;5;28mself\u001b[39m\u001b[38;5;241m.\u001b[39m_id\n\u001b[1;32m--> 395\u001b[0m \u001b[38;5;28;01mreturn\u001b[39;00m \u001b[38;5;28;43mself\u001b[39;49m\u001b[38;5;241;43m.\u001b[39;49m\u001b[43m_parent\u001b[49m\u001b[38;5;241;43m.\u001b[39;49m\u001b[43mexecute\u001b[49m\u001b[43m(\u001b[49m\u001b[43mcommand\u001b[49m\u001b[43m,\u001b[49m\u001b[43m \u001b[49m\u001b[43mparams\u001b[49m\u001b[43m)\u001b[49m\n",
      "File \u001b[1;32m~\\anaconda3\\lib\\site-packages\\selenium\\webdriver\\remote\\webdriver.py:354\u001b[0m, in \u001b[0;36mWebDriver.execute\u001b[1;34m(self, driver_command, params)\u001b[0m\n\u001b[0;32m    352\u001b[0m response \u001b[38;5;241m=\u001b[39m \u001b[38;5;28mself\u001b[39m\u001b[38;5;241m.\u001b[39mcommand_executor\u001b[38;5;241m.\u001b[39mexecute(driver_command, params)\n\u001b[0;32m    353\u001b[0m \u001b[38;5;28;01mif\u001b[39;00m response:\n\u001b[1;32m--> 354\u001b[0m     \u001b[38;5;28;43mself\u001b[39;49m\u001b[38;5;241;43m.\u001b[39;49m\u001b[43merror_handler\u001b[49m\u001b[38;5;241;43m.\u001b[39;49m\u001b[43mcheck_response\u001b[49m\u001b[43m(\u001b[49m\u001b[43mresponse\u001b[49m\u001b[43m)\u001b[49m\n\u001b[0;32m    355\u001b[0m     response[\u001b[38;5;124m\"\u001b[39m\u001b[38;5;124mvalue\u001b[39m\u001b[38;5;124m\"\u001b[39m] \u001b[38;5;241m=\u001b[39m \u001b[38;5;28mself\u001b[39m\u001b[38;5;241m.\u001b[39m_unwrap_value(response\u001b[38;5;241m.\u001b[39mget(\u001b[38;5;124m\"\u001b[39m\u001b[38;5;124mvalue\u001b[39m\u001b[38;5;124m\"\u001b[39m, \u001b[38;5;28;01mNone\u001b[39;00m))\n\u001b[0;32m    356\u001b[0m     \u001b[38;5;28;01mreturn\u001b[39;00m response\n",
      "File \u001b[1;32m~\\anaconda3\\lib\\site-packages\\selenium\\webdriver\\remote\\errorhandler.py:229\u001b[0m, in \u001b[0;36mErrorHandler.check_response\u001b[1;34m(self, response)\u001b[0m\n\u001b[0;32m    227\u001b[0m         alert_text \u001b[38;5;241m=\u001b[39m value[\u001b[38;5;124m\"\u001b[39m\u001b[38;5;124malert\u001b[39m\u001b[38;5;124m\"\u001b[39m]\u001b[38;5;241m.\u001b[39mget(\u001b[38;5;124m\"\u001b[39m\u001b[38;5;124mtext\u001b[39m\u001b[38;5;124m\"\u001b[39m)\n\u001b[0;32m    228\u001b[0m     \u001b[38;5;28;01mraise\u001b[39;00m exception_class(message, screen, stacktrace, alert_text)  \u001b[38;5;66;03m# type: ignore[call-arg]  # mypy is not smart enough here\u001b[39;00m\n\u001b[1;32m--> 229\u001b[0m \u001b[38;5;28;01mraise\u001b[39;00m exception_class(message, screen, stacktrace)\n",
      "\u001b[1;31mNoSuchWindowException\u001b[0m: Message: no such window: target window already closed\nfrom unknown error: web view not found\n  (Session info: chrome=126.0.6478.127)\nStacktrace:\n\tGetHandleVerifier [0x00007FF61C3EEEA2+31554]\n\t(No symbol) [0x00007FF61C367ED9]\n\t(No symbol) [0x00007FF61C22872A]\n\t(No symbol) [0x00007FF61C1FD995]\n\t(No symbol) [0x00007FF61C2A44D7]\n\t(No symbol) [0x00007FF61C2BC051]\n\t(No symbol) [0x00007FF61C29CDD3]\n\t(No symbol) [0x00007FF61C26A33B]\n\t(No symbol) [0x00007FF61C26AED1]\n\tGetHandleVerifier [0x00007FF61C6F8B1D+3217341]\n\tGetHandleVerifier [0x00007FF61C745AE3+3532675]\n\tGetHandleVerifier [0x00007FF61C73B0E0+3489152]\n\tGetHandleVerifier [0x00007FF61C49E776+750614]\n\t(No symbol) [0x00007FF61C37375F]\n\t(No symbol) [0x00007FF61C36EB14]\n\t(No symbol) [0x00007FF61C36ECA2]\n\t(No symbol) [0x00007FF61C35E16F]\n\tBaseThreadInitThunk [0x00007FFEA75E257D+29]\n\tRtlUserThreadStart [0x00007FFEA7DEAF28+40]\n"
     ]
    }
   ],
   "source": [
    "start=0\n",
    "end=5\n",
    "for page in range(start,end):\n",
    "    titles=driver.find_elements(By.XPATH,'//h2[@class=\"a-size-mini a-spacing-none a-color-base s-line-clamp-2\"]')\n",
    "    for i in ratings:\n",
    "        product_titles.append(i.text)\n",
    "    next_button=driver.find_element(By.XPATH,'/html/body/div[1]/div[1]/div[1]/div[1]/div/span[1]/div[1]/div[27]/div/div/span/a[3]')\n",
    "    next_button.click()\n",
    "    time.sleep(3)"
   ]
  },
  {
   "cell_type": "code",
   "execution_count": 113,
   "id": "591c424d",
   "metadata": {},
   "outputs": [
    {
     "data": {
      "text/plain": [
       "0"
      ]
     },
     "execution_count": 113,
     "metadata": {},
     "output_type": "execute_result"
    }
   ],
   "source": [
    "len(product_titles)"
   ]
  },
  {
   "cell_type": "code",
   "execution_count": 72,
   "id": "f731fc35",
   "metadata": {},
   "outputs": [
    {
     "data": {
      "text/plain": [
       "['MSI Modern 14, Intel 12th Gen. i7-1255U, 36CM FHD 60Hz Laptop (16GB/512GB NVMe SSD/Windows 11 Home/Intel Iris Xe Graphics/Classic Black/1.4Kg), C12M-459IN',\n",
       " 'Dell Latitude 7480 14in FHD Laptop PC - Intel Core i7-6600U 2.6GHz 16GB 512GB SSD Windows 10 Professional (Renewed)',\n",
       " 'ASUS Vivobook 15, Intel Core i7-12650H 12th Gen, 15.6\" (39.62 cm) FHD, Thin and Light Laptop (16GB/512GB/Win11/Office 2021/Blue/1.7 kg), X1502ZA-EJ741WS',\n",
       " 'HP Pavilion 15, 13th Gen Intel Core i7-1360P, 15.6-inch (39.6 cm), FHD, 16GB DDR4, 1TB SSD, Intel Iris Xᵉ graphics, FPR, Backlit KB, Audio by B&O (Win 11, MSO 2021, Silver, 1.74 kg), eg3036TU',\n",
       " 'HP Pavilion 14 12th Gen Intel Core i7 16GB SDRAM/1TB SSD 14 inch(35.6cm) FHD,IPS,Micro-Edge Display/Intel Iris Xe Graphics/B&O/Win 11/Alexa Built-in/Backlit KB/FPR/MSO 2021/Natural Silver,14-dv2015TU',\n",
       " 'Dell [Smartchoice Inspiron 5430 Thin & Light Laptop, 13th Gen Intel Core i7-1360P/16GB/1TB SSD/14.0\" (35.56cm) FHD+ WVA 250 nits/Backlit KB + FPR/Windows 11 + MSO\\'21/15 Month McAfee/Silver/1.59kg',\n",
       " 'HP Laptop 15s, 12th Gen Intel Core i7-1255U, 15.6-inch (39.6 cm), FHD, 16GB DDR4, 512GB SSD, Intel Iris Xe graphics, Backlit KB, Thin & light (Win 11, MSO 2021, Silver, 1.69 kg), fq5190TU',\n",
       " 'Dell Inspiron 3530 Laptop, 13th Generation Intel Core i7-1355U Processor, 16GB, 512GB, 15.6\" (39.62cm) FHD 120Hz Display, Backlit KB, Win 11 + MSO\\'21, 15 Month McAfee, Silver, Thin & Light-1.62kg',\n",
       " 'Acer Travelmate Business Laptop Intel Core i7-11th Gen (Windows 11 Home/16 GB Ram/1TB SSD/Intel Iris Xe Graphics/14.0 IPS Display/Backlit Keyboard/Fingerprint Sensor) TMP214-53',\n",
       " 'Acer Aspire Lite 12th Gen Intel Core i7-1255U Premium Metal Laptop (Windows 11 Home/16 GB RAM/512 GB SSD) AL15-52, 39.62cm (15.6\") Full HD Display, Metal Body, Steel Gray, 1.59 Kg',\n",
       " 'MSI Thin 15, Intel Core i7-12650H, 40CM FHD 144Hz Gaming Laptop(16GB/512GB NVMe SSD/Windows 11 Home/NVIDIA GeForce RTX 2050, Cosmos Gray/1.86Kg), B12UCX-1694IN',\n",
       " 'HP Pavilion 14, 11th Gen Intel Core i7-1195G7, 14-inch (35.6 cm), FHD, 16GB DDR4, 1TB SSD, Intel Iris Xe graphics, FPR, Backlit KB, Audio by B&O (Win 11, MSO 2019, Silver, 1.41 kg), dv1029TU',\n",
       " 'Lenovo IdeaPad Slim 5 Intel Core i7 13700H 16\" (40.6cm) 2.5K IPS 350Nits Laptop (16GB/1TB SSD/Win 11/Office 2021/Backlit KB/FHD 1080p +IR Camera/Alexa/3 month Game Pass/Cloud Grey/1.9Kg), 82XF0078IN',\n",
       " 'HP Victus Gaming Laptop, 12th Gen Intel Core i7-12650H, 6GB RTX 4050 GPU, 15.6-inch (39.6 cm), 75W TGP, FHD, IPS, 144Hz, 16GB DDR4, 512GB SSD, Backlit KB, B&O (Win 11, MSO, Silver, 2.37 kg), fa1134TX',\n",
       " 'Lenovo IdeaPad 3 Intel Core i7 12th Gen 1255U - (16 GB/512 GB SSD/Windows 11 Home) 15IAU7 Laptop 82RK011GIN (39.62 cm, Arctic Grey, 1.63 Kg, with MS Office)',\n",
       " 'HP Pavilion x360 2-in-1 Laptop Intel® Core™ i7-1355U / 35.6 cm (14 inch) FHD,multitouch-enabled, IPS,5 MP Camera,(16GB /512 GB/Intel® Iris® Xᵉ Graphics/Win 11/B&O/Backlit Keyboard/MSO),14-ek1021TU',\n",
       " 'Samsung Galaxy Book3 Core i7 13th Gen 1355U - (16 GB/512 GB SSD/Windows 11 Home) Galaxy Book3 Thin and Light Laptop (15.6 Inch, Silver, 1.58 Kg, with MS Office)',\n",
       " 'HP OMEN Gaming Laptop, Intel Core i7-13700HX, 6GB RTX 3050 GPU, 16.1-inch (40.9 cm), 95W TGP, FHD, IPS, 165Hz, 300 nits, 16GB DDR5, 512GB SSD, RGB Backlit KB, B&O (MSO, Black, 2.32 kg), wf0179TX',\n",
       " 'Acer Travelmate Business Laptop Intel Core i7-1165G7 Processor (Windows 11 Home/16 GB DDR4/512 GB SSD/Intel Iris Xe Graphics) TMP214-53 with 35.56 cm (14\") HD Display',\n",
       " 'ASUS [Smartchoice] ROG Strix G16, 16\"(40.64cm) FHD+ 165Hz, 13th Gen Intel Core i7-13650HX, Gaming Laptop(16GB DDR5/1TB SSD/NVIDIA GeForce RTX 4060 /Win 11/MSO 21/Eclipse Gray/2.50 Kg), G614JV-N3474WS',\n",
       " 'MSI Thin 15, Intel Core i7-13620H, 40CM FHD 144Hz Gaming Laptop(16GB/512GB NVMe SSD/Windows 11 Home/NVIDIA GeForce RTX 3050, Cosmos Gray/1.86Kg), B13UC-1804IN',\n",
       " 'Samsung Galaxy Book2 (NP750) Intel 12th Gen core i7 39.6cm (15.6\") FHD Thin & Light Laptop (16 GB/512 GB/Windows 11/MS Office/Backlit Keyboard/Fingerprint Reader/Silver/1.55Kg), NP750XED-KC2IN',\n",
       " '(Refurbished) Dell Precision 5530 Intel Core i7 - 8850H Hexa Core Processor 8th Gen, 64 GB Ram & 1TB SSD, 15.6 Inches FHD Screen with Nvidia Quadro P1000 (4GB Graphic Card) Ultrathin Laptop',\n",
       " 'GIGABYTE G5 MF-G2IN313SH Gaming Laptop Intel Core i7 12th Gen 12650H - (16 GB/512 GB SSD/Windows 11 Home/6 GB Graphics/NVIDIA GeForce RTX 4050) (15 inch, Black, 2.08 Kg)',\n",
       " 'MSI Modern 14, Intel 12th Gen. i7-1255U, 36CM FHD 60Hz Laptop (16GB/512GB NVMe SSD/Windows 11 Home/Intel Iris Xe Graphics/Classic Black/1.4Kg), C12M-459IN',\n",
       " 'Dell Latitude 7480 14in FHD Laptop PC - Intel Core i7-6600U 2.6GHz 16GB 512GB SSD Windows 10 Professional (Renewed)',\n",
       " 'ASUS Vivobook 15, Intel Core i7-12650H 12th Gen, 15.6\" (39.62 cm) FHD, Thin and Light Laptop (16GB/512GB/Win11/Office 2021/Blue/1.7 kg), X1502ZA-EJ741WS',\n",
       " 'HP Pavilion 15, 13th Gen Intel Core i7-1360P, 15.6-inch (39.6 cm), FHD, 16GB DDR4, 1TB SSD, Intel Iris Xᵉ graphics, FPR, Backlit KB, Audio by B&O (Win 11, MSO 2021, Silver, 1.74 kg), eg3036TU',\n",
       " 'HP Pavilion 14 12th Gen Intel Core i7 16GB SDRAM/1TB SSD 14 inch(35.6cm) FHD,IPS,Micro-Edge Display/Intel Iris Xe Graphics/B&O/Win 11/Alexa Built-in/Backlit KB/FPR/MSO 2021/Natural Silver,14-dv2015TU',\n",
       " 'Dell [Smartchoice Inspiron 5430 Thin & Light Laptop, 13th Gen Intel Core i7-1360P/16GB/1TB SSD/14.0\" (35.56cm) FHD+ WVA 250 nits/Backlit KB + FPR/Windows 11 + MSO\\'21/15 Month McAfee/Silver/1.59kg',\n",
       " 'HP Laptop 15s, 12th Gen Intel Core i7-1255U, 15.6-inch (39.6 cm), FHD, 16GB DDR4, 512GB SSD, Intel Iris Xe graphics, Backlit KB, Thin & light (Win 11, MSO 2021, Silver, 1.69 kg), fq5190TU',\n",
       " 'Dell Inspiron 3530 Laptop, 13th Generation Intel Core i7-1355U Processor, 16GB, 512GB, 15.6\" (39.62cm) FHD 120Hz Display, Backlit KB, Win 11 + MSO\\'21, 15 Month McAfee, Silver, Thin & Light-1.62kg',\n",
       " 'Acer Travelmate Business Laptop Intel Core i7-11th Gen (Windows 11 Home/16 GB Ram/1TB SSD/Intel Iris Xe Graphics/14.0 IPS Display/Backlit Keyboard/Fingerprint Sensor) TMP214-53',\n",
       " 'Acer Aspire Lite 12th Gen Intel Core i7-1255U Premium Metal Laptop (Windows 11 Home/16 GB RAM/512 GB SSD) AL15-52, 39.62cm (15.6\") Full HD Display, Metal Body, Steel Gray, 1.59 Kg',\n",
       " 'MSI Thin 15, Intel Core i7-12650H, 40CM FHD 144Hz Gaming Laptop(16GB/512GB NVMe SSD/Windows 11 Home/NVIDIA GeForce RTX 2050, Cosmos Gray/1.86Kg), B12UCX-1694IN',\n",
       " 'HP Pavilion 14, 11th Gen Intel Core i7-1195G7, 14-inch (35.6 cm), FHD, 16GB DDR4, 1TB SSD, Intel Iris Xe graphics, FPR, Backlit KB, Audio by B&O (Win 11, MSO 2019, Silver, 1.41 kg), dv1029TU',\n",
       " 'Lenovo IdeaPad Slim 5 Intel Core i7 13700H 16\" (40.6cm) 2.5K IPS 350Nits Laptop (16GB/1TB SSD/Win 11/Office 2021/Backlit KB/FHD 1080p +IR Camera/Alexa/3 month Game Pass/Cloud Grey/1.9Kg), 82XF0078IN',\n",
       " 'HP Victus Gaming Laptop, 12th Gen Intel Core i7-12650H, 6GB RTX 4050 GPU, 15.6-inch (39.6 cm), 75W TGP, FHD, IPS, 144Hz, 16GB DDR4, 512GB SSD, Backlit KB, B&O (Win 11, MSO, Silver, 2.37 kg), fa1134TX',\n",
       " 'Lenovo IdeaPad 3 Intel Core i7 12th Gen 1255U - (16 GB/512 GB SSD/Windows 11 Home) 15IAU7 Laptop 82RK011GIN (39.62 cm, Arctic Grey, 1.63 Kg, with MS Office)',\n",
       " 'HP Pavilion x360 2-in-1 Laptop Intel® Core™ i7-1355U / 35.6 cm (14 inch) FHD,multitouch-enabled, IPS,5 MP Camera,(16GB /512 GB/Intel® Iris® Xᵉ Graphics/Win 11/B&O/Backlit Keyboard/MSO),14-ek1021TU',\n",
       " 'Samsung Galaxy Book3 Core i7 13th Gen 1355U - (16 GB/512 GB SSD/Windows 11 Home) Galaxy Book3 Thin and Light Laptop (15.6 Inch, Silver, 1.58 Kg, with MS Office)',\n",
       " 'HP OMEN Gaming Laptop, Intel Core i7-13700HX, 6GB RTX 3050 GPU, 16.1-inch (40.9 cm), 95W TGP, FHD, IPS, 165Hz, 300 nits, 16GB DDR5, 512GB SSD, RGB Backlit KB, B&O (MSO, Black, 2.32 kg), wf0179TX',\n",
       " 'Acer Travelmate Business Laptop Intel Core i7-1165G7 Processor (Windows 11 Home/16 GB DDR4/512 GB SSD/Intel Iris Xe Graphics) TMP214-53 with 35.56 cm (14\") HD Display',\n",
       " 'ASUS [Smartchoice] ROG Strix G16, 16\"(40.64cm) FHD+ 165Hz, 13th Gen Intel Core i7-13650HX, Gaming Laptop(16GB DDR5/1TB SSD/NVIDIA GeForce RTX 4060 /Win 11/MSO 21/Eclipse Gray/2.50 Kg), G614JV-N3474WS',\n",
       " 'MSI Thin 15, Intel Core i7-13620H, 40CM FHD 144Hz Gaming Laptop(16GB/512GB NVMe SSD/Windows 11 Home/NVIDIA GeForce RTX 3050, Cosmos Gray/1.86Kg), B13UC-1804IN',\n",
       " 'Samsung Galaxy Book2 (NP750) Intel 12th Gen core i7 39.6cm (15.6\") FHD Thin & Light Laptop (16 GB/512 GB/Windows 11/MS Office/Backlit Keyboard/Fingerprint Reader/Silver/1.55Kg), NP750XED-KC2IN',\n",
       " '(Refurbished) Dell Precision 5530 Intel Core i7 - 8850H Hexa Core Processor 8th Gen, 64 GB Ram & 1TB SSD, 15.6 Inches FHD Screen with Nvidia Quadro P1000 (4GB Graphic Card) Ultrathin Laptop',\n",
       " 'GIGABYTE G5 MF-G2IN313SH Gaming Laptop Intel Core i7 12th Gen 12650H - (16 GB/512 GB SSD/Windows 11 Home/6 GB Graphics/NVIDIA GeForce RTX 4050) (15 inch, Black, 2.08 Kg)']"
      ]
     },
     "execution_count": 72,
     "metadata": {},
     "output_type": "execute_result"
    }
   ],
   "source": [
    "product_titles"
   ]
  },
  {
   "cell_type": "code",
   "execution_count": 86,
   "id": "40f6cd8b",
   "metadata": {},
   "outputs": [],
   "source": [
    "product_ratings=[]"
   ]
  },
  {
   "cell_type": "code",
   "execution_count": 117,
   "id": "07a78693",
   "metadata": {},
   "outputs": [],
   "source": [
    "start=0\n",
    "end=5\n",
    "for page in range(start,end):\n",
    "    ratings=driver.find_elements(By.XPATH,'//span[@class=\"a-icon-alt\"]')\n",
    "    for i in ratings:\n",
    "        product_ratings.append(i.text)\n",
    "    next_button=driver.find_element(By.XPATH,'/html/body/div[1]/div[1]/div[1]/div[1]/div/span[1]/div[1]/div[27]/div/div/span/a[3]')\n",
    "    next_button.click()\n",
    "    time.sleep(3)"
   ]
  },
  {
   "cell_type": "code",
   "execution_count": 118,
   "id": "c2df3d09",
   "metadata": {},
   "outputs": [
    {
     "data": {
      "text/plain": [
       "104"
      ]
     },
     "execution_count": 118,
     "metadata": {},
     "output_type": "execute_result"
    }
   ],
   "source": [
    "len(product_ratings)"
   ]
  },
  {
   "cell_type": "code",
   "execution_count": 119,
   "id": "5186f2ad",
   "metadata": {},
   "outputs": [
    {
     "data": {
      "text/plain": [
       "['',\n",
       " '',\n",
       " '',\n",
       " '',\n",
       " '',\n",
       " '',\n",
       " '',\n",
       " '',\n",
       " '',\n",
       " '',\n",
       " '',\n",
       " '',\n",
       " '',\n",
       " '',\n",
       " '',\n",
       " '',\n",
       " '',\n",
       " '',\n",
       " '',\n",
       " '',\n",
       " '',\n",
       " '',\n",
       " '',\n",
       " '',\n",
       " '',\n",
       " '',\n",
       " '',\n",
       " '',\n",
       " '',\n",
       " '',\n",
       " '',\n",
       " '',\n",
       " '',\n",
       " '',\n",
       " '',\n",
       " '',\n",
       " '',\n",
       " '',\n",
       " '',\n",
       " '',\n",
       " '',\n",
       " '',\n",
       " '',\n",
       " '',\n",
       " '',\n",
       " '',\n",
       " '',\n",
       " '',\n",
       " '',\n",
       " '',\n",
       " '',\n",
       " '',\n",
       " '',\n",
       " '',\n",
       " '',\n",
       " '',\n",
       " '',\n",
       " '',\n",
       " '',\n",
       " '',\n",
       " '',\n",
       " '',\n",
       " '',\n",
       " '',\n",
       " '',\n",
       " '',\n",
       " '',\n",
       " '',\n",
       " '',\n",
       " '',\n",
       " '',\n",
       " '',\n",
       " '',\n",
       " '',\n",
       " '',\n",
       " '',\n",
       " '',\n",
       " '',\n",
       " '',\n",
       " '',\n",
       " '',\n",
       " '',\n",
       " '',\n",
       " '',\n",
       " '',\n",
       " '',\n",
       " '',\n",
       " '',\n",
       " '',\n",
       " '',\n",
       " '',\n",
       " '',\n",
       " '',\n",
       " '',\n",
       " '',\n",
       " '',\n",
       " '',\n",
       " '',\n",
       " '',\n",
       " '',\n",
       " '',\n",
       " '',\n",
       " '',\n",
       " '']"
      ]
     },
     "execution_count": 119,
     "metadata": {},
     "output_type": "execute_result"
    }
   ],
   "source": [
    "product_ratings"
   ]
  },
  {
   "cell_type": "code",
   "execution_count": 122,
   "id": "f0300d0d",
   "metadata": {},
   "outputs": [],
   "source": [
    "product_prices=[]"
   ]
  },
  {
   "cell_type": "code",
   "execution_count": 123,
   "id": "4190fff4",
   "metadata": {},
   "outputs": [],
   "source": [
    "start=0\n",
    "end=5\n",
    "for page in range(start,end):\n",
    "    prices=driver.find_elements(By.XPATH,'//span[@class=\"a-price\"]')\n",
    "    for i in prices:\n",
    "        product_prices.append(i.text)\n",
    "    next_button=driver.find_element(By.XPATH,'/html/body/div[1]/div[1]/div[1]/div[1]/div/span[1]/div[1]/div[27]/div/div/span/a[3]')\n",
    "    next_button.click()\n",
    "    time.sleep(3)"
   ]
  },
  {
   "cell_type": "code",
   "execution_count": 124,
   "id": "e4aef32b",
   "metadata": {},
   "outputs": [
    {
     "data": {
      "text/plain": [
       "115"
      ]
     },
     "execution_count": 124,
     "metadata": {},
     "output_type": "execute_result"
    }
   ],
   "source": [
    "len(product_prices)"
   ]
  },
  {
   "cell_type": "code",
   "execution_count": 125,
   "id": "2a0c3671",
   "metadata": {},
   "outputs": [
    {
     "data": {
      "text/plain": [
       "['₹67,990',\n",
       " '₹1,09,990',\n",
       " '₹61,990',\n",
       " '₹77,990',\n",
       " '₹87,990',\n",
       " '₹72,990',\n",
       " '₹94,009',\n",
       " '₹88,290',\n",
       " '₹1,06,990',\n",
       " '₹22,000',\n",
       " '₹89,999',\n",
       " '₹71,990',\n",
       " '₹99,970',\n",
       " '₹81,999',\n",
       " '₹83,990',\n",
       " '₹61,999',\n",
       " '₹1,09,190',\n",
       " '₹1,29,990',\n",
       " '₹1,70,030',\n",
       " '₹2,19,990',\n",
       " '₹63,990',\n",
       " '₹1,23,990',\n",
       " '₹98,600',\n",
       " '₹1,29,990',\n",
       " '₹1,07,490',\n",
       " '₹1,20,022',\n",
       " '₹56,990',\n",
       " '₹79,699',\n",
       " '₹1,03,990',\n",
       " '₹34,500',\n",
       " '₹72,990',\n",
       " '₹69,990',\n",
       " '₹24,329',\n",
       " '₹1,25,990',\n",
       " '₹1,12,990',\n",
       " '₹61,890',\n",
       " '₹82,990',\n",
       " '₹1,07,029',\n",
       " '₹41,500',\n",
       " '₹91,990',\n",
       " '₹1,54,990',\n",
       " '₹55,000',\n",
       " '₹32,500',\n",
       " '₹82,990',\n",
       " '₹1,21,990',\n",
       " '₹26,990',\n",
       " '₹67,990',\n",
       " '₹1,09,990',\n",
       " '₹61,990',\n",
       " '₹77,990',\n",
       " '₹87,990',\n",
       " '₹72,990',\n",
       " '₹94,009',\n",
       " '₹88,290',\n",
       " '₹1,06,990',\n",
       " '₹22,000',\n",
       " '₹89,999',\n",
       " '₹71,990',\n",
       " '₹99,970',\n",
       " '₹81,999',\n",
       " '₹83,990',\n",
       " '₹61,999',\n",
       " '₹1,09,190',\n",
       " '₹1,29,990',\n",
       " '₹1,70,030',\n",
       " '₹2,19,990',\n",
       " '₹63,990',\n",
       " '₹1,23,990',\n",
       " '₹98,600',\n",
       " '₹1,29,990',\n",
       " '₹1,07,490',\n",
       " '₹1,20,022',\n",
       " '₹56,990',\n",
       " '₹79,699',\n",
       " '₹1,03,990',\n",
       " '₹34,500',\n",
       " '₹72,990',\n",
       " '₹69,990',\n",
       " '₹24,329',\n",
       " '₹1,25,990',\n",
       " '₹1,12,990',\n",
       " '₹61,890',\n",
       " '₹82,990',\n",
       " '₹1,07,029',\n",
       " '₹41,500',\n",
       " '₹91,990',\n",
       " '₹1,54,990',\n",
       " '₹55,000',\n",
       " '₹32,500',\n",
       " '₹82,990',\n",
       " '₹1,21,990',\n",
       " '₹26,990',\n",
       " '₹67,990',\n",
       " '₹1,09,990',\n",
       " '₹61,990',\n",
       " '₹77,990',\n",
       " '₹87,990',\n",
       " '₹72,990',\n",
       " '₹94,009',\n",
       " '₹88,290',\n",
       " '₹1,06,990',\n",
       " '₹22,000',\n",
       " '₹89,999',\n",
       " '₹71,990',\n",
       " '₹99,970',\n",
       " '₹81,999',\n",
       " '₹83,990',\n",
       " '₹61,999',\n",
       " '₹1,09,190',\n",
       " '₹1,29,990',\n",
       " '₹1,70,030',\n",
       " '₹2,19,990',\n",
       " '₹63,990',\n",
       " '₹1,23,990',\n",
       " '₹98,600']"
      ]
     },
     "execution_count": 125,
     "metadata": {},
     "output_type": "execute_result"
    }
   ],
   "source": [
    "product_prices"
   ]
  },
  {
   "cell_type": "code",
   "execution_count": null,
   "id": "270ccf29",
   "metadata": {},
   "outputs": [],
   "source": []
  }
 ],
 "metadata": {
  "kernelspec": {
   "display_name": "Python 3 (ipykernel)",
   "language": "python",
   "name": "python3"
  },
  "language_info": {
   "codemirror_mode": {
    "name": "ipython",
    "version": 3
   },
   "file_extension": ".py",
   "mimetype": "text/x-python",
   "name": "python",
   "nbconvert_exporter": "python",
   "pygments_lexer": "ipython3",
   "version": "3.10.9"
  }
 },
 "nbformat": 4,
 "nbformat_minor": 5
}
